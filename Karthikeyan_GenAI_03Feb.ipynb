{
  "nbformat": 4,
  "nbformat_minor": 0,
  "metadata": {
    "colab": {
      "provenance": [],
      "authorship_tag": "ABX9TyMscRoMIayGcfuXoP/Y8PNU",
      "include_colab_link": true
    },
    "kernelspec": {
      "name": "python3",
      "display_name": "Python 3"
    },
    "language_info": {
      "name": "python"
    }
  },
  "cells": [
    {
      "cell_type": "markdown",
      "metadata": {
        "id": "view-in-github",
        "colab_type": "text"
      },
      "source": [
        "<a href=\"https://colab.research.google.com/github/karthikeyanbu/GenAI/blob/main/Karthikeyan_GenAI_03Feb.ipynb\" target=\"_parent\"><img src=\"https://colab.research.google.com/assets/colab-badge.svg\" alt=\"Open In Colab\"/></a>"
      ]
    },
    {
      "cell_type": "code",
      "source": [
        "## About the program\n",
        "# Download customer dataset from Kaggle and use the same for data cleansing demo"
      ],
      "metadata": {
        "id": "_ExvCXrzNB9W"
      },
      "execution_count": null,
      "outputs": []
    },
    {
      "cell_type": "code",
      "source": [
        "# Installations\n",
        "!apt-get install wget\n",
        "!wget https://raw.githubusercontent.com/karthikeyanbu/GenAI/main/twcs.csv\n",
        "\n",
        "!pip install emoji"
      ],
      "metadata": {
        "colab": {
          "base_uri": "https://localhost:8080/"
        },
        "id": "yrsh3d9jNZWk",
        "outputId": "2e96c449-0ac8-4136-bb4c-bd362bae96c9"
      },
      "execution_count": 2,
      "outputs": [
        {
          "output_type": "stream",
          "name": "stdout",
          "text": [
            "Reading package lists... Done\n",
            "Building dependency tree... Done\n",
            "Reading state information... Done\n",
            "wget is already the newest version (1.21.2-2ubuntu1).\n",
            "0 upgraded, 0 newly installed, 0 to remove and 32 not upgraded.\n",
            "--2024-02-05 05:02:36--  https://raw.githubusercontent.com/karthikeyanbu/GenAI/main/twcs.csv\n",
            "Resolving raw.githubusercontent.com (raw.githubusercontent.com)... 185.199.111.133, 185.199.108.133, 185.199.110.133, ...\n",
            "Connecting to raw.githubusercontent.com (raw.githubusercontent.com)|185.199.111.133|:443... connected.\n",
            "HTTP request sent, awaiting response... 200 OK\n",
            "Length: 20787426 (20M) [text/plain]\n",
            "Saving to: ‘twcs.csv’\n",
            "\n",
            "twcs.csv            100%[===================>]  19.82M   115MB/s    in 0.2s    \n",
            "\n",
            "2024-02-05 05:02:37 (115 MB/s) - ‘twcs.csv’ saved [20787426/20787426]\n",
            "\n",
            "Collecting emoji\n",
            "  Downloading emoji-2.10.1-py2.py3-none-any.whl (421 kB)\n",
            "\u001b[2K     \u001b[90m━━━━━━━━━━━━━━━━━━━━━━━━━━━━━━━━━━━━━━━━\u001b[0m \u001b[32m421.5/421.5 kB\u001b[0m \u001b[31m3.0 MB/s\u001b[0m eta \u001b[36m0:00:00\u001b[0m\n",
            "\u001b[?25hInstalling collected packages: emoji\n",
            "Successfully installed emoji-2.10.1\n"
          ]
        }
      ]
    },
    {
      "cell_type": "code",
      "source": [
        "# Libraries\n",
        "import pandas as pd\n",
        "import string as str\n",
        "import re\n",
        "import nltk\n",
        "from nltk.corpus import stopwords\n",
        "import emoji\n",
        "import textblob\n",
        "from textblob import TextBlob"
      ],
      "metadata": {
        "id": "MXdBnZtCNR-J"
      },
      "execution_count": 3,
      "outputs": []
    },
    {
      "cell_type": "code",
      "source": [
        "# Read csv file\n",
        "# Low_memory = False parameter set as per of debug message\n",
        "customer_df = pd.read_csv(\"twcs.csv\", low_memory=False)"
      ],
      "metadata": {
        "id": "PQVxgidd7ZHP"
      },
      "execution_count": 4,
      "outputs": []
    },
    {
      "cell_type": "code",
      "source": [
        "customer_df.head()"
      ],
      "metadata": {
        "colab": {
          "base_uri": "https://localhost:8080/",
          "height": 380
        },
        "id": "nsbiVaRV-ab1",
        "outputId": "09fcdd4b-0113-4478-885b-a550756d9863"
      },
      "execution_count": 6,
      "outputs": [
        {
          "output_type": "execute_result",
          "data": {
            "text/plain": [
              "   tweet_id   author_id inbound                      created_at  \\\n",
              "0       1.0  sprintcare   False  Tue Oct 31 22:10:47 +0000 2017   \n",
              "1       2.0      115712    True  Tue Oct 31 22:11:45 +0000 2017   \n",
              "2       3.0      115712    True  Tue Oct 31 22:08:27 +0000 2017   \n",
              "3       4.0  sprintcare   False  Tue Oct 31 21:54:49 +0000 2017   \n",
              "4       5.0      115712    True  Tue Oct 31 21:49:35 +0000 2017   \n",
              "\n",
              "                                                text response_tweet_id  \\\n",
              "0  @115712 I understand. I would like to assist y...                 2   \n",
              "1      @sprintcare and how do you propose we do that               NaN   \n",
              "2  @sprintcare I have sent several private messag...                 1   \n",
              "3  @115712 Please send us a Private Message so th...                 3   \n",
              "4                                 @sprintcare I did.                 4   \n",
              "\n",
              "   in_response_to_tweet_id  \n",
              "0                      3.0  \n",
              "1                      1.0  \n",
              "2                      4.0  \n",
              "3                      5.0  \n",
              "4                      6.0  "
            ],
            "text/html": [
              "\n",
              "  <div id=\"df-521828bf-b2ad-4fdf-ab09-8eda84ab6547\" class=\"colab-df-container\">\n",
              "    <div>\n",
              "<style scoped>\n",
              "    .dataframe tbody tr th:only-of-type {\n",
              "        vertical-align: middle;\n",
              "    }\n",
              "\n",
              "    .dataframe tbody tr th {\n",
              "        vertical-align: top;\n",
              "    }\n",
              "\n",
              "    .dataframe thead th {\n",
              "        text-align: right;\n",
              "    }\n",
              "</style>\n",
              "<table border=\"1\" class=\"dataframe\">\n",
              "  <thead>\n",
              "    <tr style=\"text-align: right;\">\n",
              "      <th></th>\n",
              "      <th>tweet_id</th>\n",
              "      <th>author_id</th>\n",
              "      <th>inbound</th>\n",
              "      <th>created_at</th>\n",
              "      <th>text</th>\n",
              "      <th>response_tweet_id</th>\n",
              "      <th>in_response_to_tweet_id</th>\n",
              "    </tr>\n",
              "  </thead>\n",
              "  <tbody>\n",
              "    <tr>\n",
              "      <th>0</th>\n",
              "      <td>1.0</td>\n",
              "      <td>sprintcare</td>\n",
              "      <td>False</td>\n",
              "      <td>Tue Oct 31 22:10:47 +0000 2017</td>\n",
              "      <td>@115712 I understand. I would like to assist y...</td>\n",
              "      <td>2</td>\n",
              "      <td>3.0</td>\n",
              "    </tr>\n",
              "    <tr>\n",
              "      <th>1</th>\n",
              "      <td>2.0</td>\n",
              "      <td>115712</td>\n",
              "      <td>True</td>\n",
              "      <td>Tue Oct 31 22:11:45 +0000 2017</td>\n",
              "      <td>@sprintcare and how do you propose we do that</td>\n",
              "      <td>NaN</td>\n",
              "      <td>1.0</td>\n",
              "    </tr>\n",
              "    <tr>\n",
              "      <th>2</th>\n",
              "      <td>3.0</td>\n",
              "      <td>115712</td>\n",
              "      <td>True</td>\n",
              "      <td>Tue Oct 31 22:08:27 +0000 2017</td>\n",
              "      <td>@sprintcare I have sent several private messag...</td>\n",
              "      <td>1</td>\n",
              "      <td>4.0</td>\n",
              "    </tr>\n",
              "    <tr>\n",
              "      <th>3</th>\n",
              "      <td>4.0</td>\n",
              "      <td>sprintcare</td>\n",
              "      <td>False</td>\n",
              "      <td>Tue Oct 31 21:54:49 +0000 2017</td>\n",
              "      <td>@115712 Please send us a Private Message so th...</td>\n",
              "      <td>3</td>\n",
              "      <td>5.0</td>\n",
              "    </tr>\n",
              "    <tr>\n",
              "      <th>4</th>\n",
              "      <td>5.0</td>\n",
              "      <td>115712</td>\n",
              "      <td>True</td>\n",
              "      <td>Tue Oct 31 21:49:35 +0000 2017</td>\n",
              "      <td>@sprintcare I did.</td>\n",
              "      <td>4</td>\n",
              "      <td>6.0</td>\n",
              "    </tr>\n",
              "  </tbody>\n",
              "</table>\n",
              "</div>\n",
              "    <div class=\"colab-df-buttons\">\n",
              "\n",
              "  <div class=\"colab-df-container\">\n",
              "    <button class=\"colab-df-convert\" onclick=\"convertToInteractive('df-521828bf-b2ad-4fdf-ab09-8eda84ab6547')\"\n",
              "            title=\"Convert this dataframe to an interactive table.\"\n",
              "            style=\"display:none;\">\n",
              "\n",
              "  <svg xmlns=\"http://www.w3.org/2000/svg\" height=\"24px\" viewBox=\"0 -960 960 960\">\n",
              "    <path d=\"M120-120v-720h720v720H120Zm60-500h600v-160H180v160Zm220 220h160v-160H400v160Zm0 220h160v-160H400v160ZM180-400h160v-160H180v160Zm440 0h160v-160H620v160ZM180-180h160v-160H180v160Zm440 0h160v-160H620v160Z\"/>\n",
              "  </svg>\n",
              "    </button>\n",
              "\n",
              "  <style>\n",
              "    .colab-df-container {\n",
              "      display:flex;\n",
              "      gap: 12px;\n",
              "    }\n",
              "\n",
              "    .colab-df-convert {\n",
              "      background-color: #E8F0FE;\n",
              "      border: none;\n",
              "      border-radius: 50%;\n",
              "      cursor: pointer;\n",
              "      display: none;\n",
              "      fill: #1967D2;\n",
              "      height: 32px;\n",
              "      padding: 0 0 0 0;\n",
              "      width: 32px;\n",
              "    }\n",
              "\n",
              "    .colab-df-convert:hover {\n",
              "      background-color: #E2EBFA;\n",
              "      box-shadow: 0px 1px 2px rgba(60, 64, 67, 0.3), 0px 1px 3px 1px rgba(60, 64, 67, 0.15);\n",
              "      fill: #174EA6;\n",
              "    }\n",
              "\n",
              "    .colab-df-buttons div {\n",
              "      margin-bottom: 4px;\n",
              "    }\n",
              "\n",
              "    [theme=dark] .colab-df-convert {\n",
              "      background-color: #3B4455;\n",
              "      fill: #D2E3FC;\n",
              "    }\n",
              "\n",
              "    [theme=dark] .colab-df-convert:hover {\n",
              "      background-color: #434B5C;\n",
              "      box-shadow: 0px 1px 3px 1px rgba(0, 0, 0, 0.15);\n",
              "      filter: drop-shadow(0px 1px 2px rgba(0, 0, 0, 0.3));\n",
              "      fill: #FFFFFF;\n",
              "    }\n",
              "  </style>\n",
              "\n",
              "    <script>\n",
              "      const buttonEl =\n",
              "        document.querySelector('#df-521828bf-b2ad-4fdf-ab09-8eda84ab6547 button.colab-df-convert');\n",
              "      buttonEl.style.display =\n",
              "        google.colab.kernel.accessAllowed ? 'block' : 'none';\n",
              "\n",
              "      async function convertToInteractive(key) {\n",
              "        const element = document.querySelector('#df-521828bf-b2ad-4fdf-ab09-8eda84ab6547');\n",
              "        const dataTable =\n",
              "          await google.colab.kernel.invokeFunction('convertToInteractive',\n",
              "                                                    [key], {});\n",
              "        if (!dataTable) return;\n",
              "\n",
              "        const docLinkHtml = 'Like what you see? Visit the ' +\n",
              "          '<a target=\"_blank\" href=https://colab.research.google.com/notebooks/data_table.ipynb>data table notebook</a>'\n",
              "          + ' to learn more about interactive tables.';\n",
              "        element.innerHTML = '';\n",
              "        dataTable['output_type'] = 'display_data';\n",
              "        await google.colab.output.renderOutput(dataTable, element);\n",
              "        const docLink = document.createElement('div');\n",
              "        docLink.innerHTML = docLinkHtml;\n",
              "        element.appendChild(docLink);\n",
              "      }\n",
              "    </script>\n",
              "  </div>\n",
              "\n",
              "\n",
              "<div id=\"df-2b53b648-6186-4cc3-9b12-7a5c226f7169\">\n",
              "  <button class=\"colab-df-quickchart\" onclick=\"quickchart('df-2b53b648-6186-4cc3-9b12-7a5c226f7169')\"\n",
              "            title=\"Suggest charts\"\n",
              "            style=\"display:none;\">\n",
              "\n",
              "<svg xmlns=\"http://www.w3.org/2000/svg\" height=\"24px\"viewBox=\"0 0 24 24\"\n",
              "     width=\"24px\">\n",
              "    <g>\n",
              "        <path d=\"M19 3H5c-1.1 0-2 .9-2 2v14c0 1.1.9 2 2 2h14c1.1 0 2-.9 2-2V5c0-1.1-.9-2-2-2zM9 17H7v-7h2v7zm4 0h-2V7h2v10zm4 0h-2v-4h2v4z\"/>\n",
              "    </g>\n",
              "</svg>\n",
              "  </button>\n",
              "\n",
              "<style>\n",
              "  .colab-df-quickchart {\n",
              "      --bg-color: #E8F0FE;\n",
              "      --fill-color: #1967D2;\n",
              "      --hover-bg-color: #E2EBFA;\n",
              "      --hover-fill-color: #174EA6;\n",
              "      --disabled-fill-color: #AAA;\n",
              "      --disabled-bg-color: #DDD;\n",
              "  }\n",
              "\n",
              "  [theme=dark] .colab-df-quickchart {\n",
              "      --bg-color: #3B4455;\n",
              "      --fill-color: #D2E3FC;\n",
              "      --hover-bg-color: #434B5C;\n",
              "      --hover-fill-color: #FFFFFF;\n",
              "      --disabled-bg-color: #3B4455;\n",
              "      --disabled-fill-color: #666;\n",
              "  }\n",
              "\n",
              "  .colab-df-quickchart {\n",
              "    background-color: var(--bg-color);\n",
              "    border: none;\n",
              "    border-radius: 50%;\n",
              "    cursor: pointer;\n",
              "    display: none;\n",
              "    fill: var(--fill-color);\n",
              "    height: 32px;\n",
              "    padding: 0;\n",
              "    width: 32px;\n",
              "  }\n",
              "\n",
              "  .colab-df-quickchart:hover {\n",
              "    background-color: var(--hover-bg-color);\n",
              "    box-shadow: 0 1px 2px rgba(60, 64, 67, 0.3), 0 1px 3px 1px rgba(60, 64, 67, 0.15);\n",
              "    fill: var(--button-hover-fill-color);\n",
              "  }\n",
              "\n",
              "  .colab-df-quickchart-complete:disabled,\n",
              "  .colab-df-quickchart-complete:disabled:hover {\n",
              "    background-color: var(--disabled-bg-color);\n",
              "    fill: var(--disabled-fill-color);\n",
              "    box-shadow: none;\n",
              "  }\n",
              "\n",
              "  .colab-df-spinner {\n",
              "    border: 2px solid var(--fill-color);\n",
              "    border-color: transparent;\n",
              "    border-bottom-color: var(--fill-color);\n",
              "    animation:\n",
              "      spin 1s steps(1) infinite;\n",
              "  }\n",
              "\n",
              "  @keyframes spin {\n",
              "    0% {\n",
              "      border-color: transparent;\n",
              "      border-bottom-color: var(--fill-color);\n",
              "      border-left-color: var(--fill-color);\n",
              "    }\n",
              "    20% {\n",
              "      border-color: transparent;\n",
              "      border-left-color: var(--fill-color);\n",
              "      border-top-color: var(--fill-color);\n",
              "    }\n",
              "    30% {\n",
              "      border-color: transparent;\n",
              "      border-left-color: var(--fill-color);\n",
              "      border-top-color: var(--fill-color);\n",
              "      border-right-color: var(--fill-color);\n",
              "    }\n",
              "    40% {\n",
              "      border-color: transparent;\n",
              "      border-right-color: var(--fill-color);\n",
              "      border-top-color: var(--fill-color);\n",
              "    }\n",
              "    60% {\n",
              "      border-color: transparent;\n",
              "      border-right-color: var(--fill-color);\n",
              "    }\n",
              "    80% {\n",
              "      border-color: transparent;\n",
              "      border-right-color: var(--fill-color);\n",
              "      border-bottom-color: var(--fill-color);\n",
              "    }\n",
              "    90% {\n",
              "      border-color: transparent;\n",
              "      border-bottom-color: var(--fill-color);\n",
              "    }\n",
              "  }\n",
              "</style>\n",
              "\n",
              "  <script>\n",
              "    async function quickchart(key) {\n",
              "      const quickchartButtonEl =\n",
              "        document.querySelector('#' + key + ' button');\n",
              "      quickchartButtonEl.disabled = true;  // To prevent multiple clicks.\n",
              "      quickchartButtonEl.classList.add('colab-df-spinner');\n",
              "      try {\n",
              "        const charts = await google.colab.kernel.invokeFunction(\n",
              "            'suggestCharts', [key], {});\n",
              "      } catch (error) {\n",
              "        console.error('Error during call to suggestCharts:', error);\n",
              "      }\n",
              "      quickchartButtonEl.classList.remove('colab-df-spinner');\n",
              "      quickchartButtonEl.classList.add('colab-df-quickchart-complete');\n",
              "    }\n",
              "    (() => {\n",
              "      let quickchartButtonEl =\n",
              "        document.querySelector('#df-2b53b648-6186-4cc3-9b12-7a5c226f7169 button');\n",
              "      quickchartButtonEl.style.display =\n",
              "        google.colab.kernel.accessAllowed ? 'block' : 'none';\n",
              "    })();\n",
              "  </script>\n",
              "</div>\n",
              "\n",
              "    </div>\n",
              "  </div>\n"
            ]
          },
          "metadata": {},
          "execution_count": 6
        }
      ]
    },
    {
      "cell_type": "code",
      "source": [
        "customer_df.shape"
      ],
      "metadata": {
        "colab": {
          "base_uri": "https://localhost:8080/"
        },
        "id": "eH6S8ne7-mlF",
        "outputId": "51a28afd-876c-4c49-acca-0e625174c83a"
      },
      "execution_count": 7,
      "outputs": [
        {
          "output_type": "execute_result",
          "data": {
            "text/plain": [
              "(152758, 7)"
            ]
          },
          "metadata": {},
          "execution_count": 7
        }
      ]
    },
    {
      "cell_type": "code",
      "source": [
        "customer_df.info()"
      ],
      "metadata": {
        "colab": {
          "base_uri": "https://localhost:8080/"
        },
        "id": "9Z5Zksbb_8ic",
        "outputId": "1a9671d4-d28a-4059-ddbb-3a3932d2a333"
      },
      "execution_count": 8,
      "outputs": [
        {
          "output_type": "stream",
          "name": "stdout",
          "text": [
            "<class 'pandas.core.frame.DataFrame'>\n",
            "RangeIndex: 152758 entries, 0 to 152757\n",
            "Data columns (total 7 columns):\n",
            " #   Column                   Non-Null Count   Dtype  \n",
            "---  ------                   --------------   -----  \n",
            " 0   tweet_id                 109227 non-null  float64\n",
            " 1   author_id                109227 non-null  object \n",
            " 2   inbound                  109227 non-null  object \n",
            " 3   created_at               109227 non-null  object \n",
            " 4   text                     109227 non-null  object \n",
            " 5   response_tweet_id        73904 non-null   object \n",
            " 6   in_response_to_tweet_id  81056 non-null   float64\n",
            "dtypes: float64(2), object(5)\n",
            "memory usage: 8.2+ MB\n"
          ]
        }
      ]
    },
    {
      "cell_type": "code",
      "source": [
        "## text is the field taken for data cleansing\n",
        "# 1. Converting to lowercase\n",
        "customer_df[\"text\"]\n",
        "customer_df[\"text\"] = customer_df[\"text\"].str.lower()\n",
        "customer_df[\"text\"]"
      ],
      "metadata": {
        "colab": {
          "base_uri": "https://localhost:8080/"
        },
        "id": "ooNDTQZ7-qMU",
        "outputId": "41e50ec1-950b-4250-ed9a-fdebccb765d4"
      },
      "execution_count": 9,
      "outputs": [
        {
          "output_type": "execute_result",
          "data": {
            "text/plain": [
              "0         @115712 i understand. i would like to assist y...\n",
              "1             @sprintcare and how do you propose we do that\n",
              "2         @sprintcare i have sent several private messag...\n",
              "3         @115712 please send us a private message so th...\n",
              "4                                        @sprintcare i did.\n",
              "                                ...                        \n",
              "152753                                                  NaN\n",
              "152754                                                  NaN\n",
              "152755                                                  NaN\n",
              "152756                                                  NaN\n",
              "152757                                                  NaN\n",
              "Name: text, Length: 152758, dtype: object"
            ]
          },
          "metadata": {},
          "execution_count": 9
        }
      ]
    },
    {
      "cell_type": "code",
      "source": [
        "# Check for the presence of punctuation\n",
        "customer_df[\"text\"].dtypes\n",
        "customer_df[\"text\"] = customer_df[\"text\"].to_string()\n"
      ],
      "metadata": {
        "id": "L_FGwOG8OAud"
      },
      "execution_count": null,
      "outputs": []
    },
    {
      "cell_type": "code",
      "source": [
        "for i in customer_df[\"text\"]:\n",
        "  if (\"<html>\" in i):\n",
        "     print (i)"
      ],
      "metadata": {
        "id": "QW69fmwdO0f8"
      },
      "execution_count": null,
      "outputs": []
    },
    {
      "cell_type": "code",
      "source": [
        "for i in customer_df[\"text\"]:\n",
        "  if (\".\" in i):\n",
        "     print (i)"
      ],
      "metadata": {
        "id": "dQ1zblJrPyDj"
      },
      "execution_count": null,
      "outputs": []
    },
    {
      "cell_type": "code",
      "source": [
        "#2 Remove punctuations\n",
        "exclude = type(str.punctuation)"
      ],
      "metadata": {
        "id": "Xpjh7gFkAU-r"
      },
      "execution_count": 10,
      "outputs": []
    },
    {
      "cell_type": "code",
      "source": [
        "def remove_punc(text):\n",
        "    if not isinstance(text, exclude):\n",
        "        return ''\n",
        "    return re.sub(r'[^\\w\\s]', '', text)"
      ],
      "metadata": {
        "id": "yZFjBO6fBOee"
      },
      "execution_count": 11,
      "outputs": []
    },
    {
      "cell_type": "code",
      "source": [
        "customer_df[\"text\"] = customer_df[\"text\"].apply(remove_punc)\n",
        "customer_df[\"text\"].head(10)"
      ],
      "metadata": {
        "colab": {
          "base_uri": "https://localhost:8080/"
        },
        "id": "X-Ly6HjPBVC9",
        "outputId": "1787d207-89dd-433d-c2a3-cb3df56467c6"
      },
      "execution_count": 12,
      "outputs": [
        {
          "output_type": "execute_result",
          "data": {
            "text/plain": [
              "0    115712 i understand i would like to assist you...\n",
              "1         sprintcare and how do you propose we do that\n",
              "2    sprintcare i have sent several private message...\n",
              "3    115712 please send us a private message so tha...\n",
              "4                                     sprintcare i did\n",
              "5    115712 can you please send us a private messag...\n",
              "6             sprintcare is the worst customer service\n",
              "7    115713 this is saddening to hear please shoot ...\n",
              "8    sprintcare you gonna magically change your con...\n",
              "9    115713 we understand your concerns and wed lik...\n",
              "Name: text, dtype: object"
            ]
          },
          "metadata": {},
          "execution_count": 12
        }
      ]
    },
    {
      "cell_type": "code",
      "source": [
        "#3 Remove URL, if any\n",
        "def remove_url(text):\n",
        "    pattern=re.compile(r'https?://\\S+|www\\.\\S+')\n",
        "    return pattern.sub(\"\",text)"
      ],
      "metadata": {
        "id": "3qCP936WCBNy"
      },
      "execution_count": 13,
      "outputs": []
    },
    {
      "cell_type": "code",
      "source": [
        "customer_df[\"text\"] = customer_df[\"text\"].apply(remove_url)\n",
        "customer_df[\"text\"].head(10)"
      ],
      "metadata": {
        "colab": {
          "base_uri": "https://localhost:8080/"
        },
        "id": "lH2zgx12IyGY",
        "outputId": "afb94f25-cfde-4bef-a43a-25532c98c30e"
      },
      "execution_count": 14,
      "outputs": [
        {
          "output_type": "execute_result",
          "data": {
            "text/plain": [
              "0    115712 i understand i would like to assist you...\n",
              "1         sprintcare and how do you propose we do that\n",
              "2    sprintcare i have sent several private message...\n",
              "3    115712 please send us a private message so tha...\n",
              "4                                     sprintcare i did\n",
              "5    115712 can you please send us a private messag...\n",
              "6             sprintcare is the worst customer service\n",
              "7    115713 this is saddening to hear please shoot ...\n",
              "8    sprintcare you gonna magically change your con...\n",
              "9    115713 we understand your concerns and wed lik...\n",
              "Name: text, dtype: object"
            ]
          },
          "metadata": {},
          "execution_count": 14
        }
      ]
    },
    {
      "cell_type": "code",
      "source": [
        "#4 Remove stopwords\n",
        "nltk.download('stopwords')"
      ],
      "metadata": {
        "colab": {
          "base_uri": "https://localhost:8080/"
        },
        "id": "C7BcqZIuJr64",
        "outputId": "d9880c20-7df8-4a55-e695-10e7f0a1e187"
      },
      "execution_count": 15,
      "outputs": [
        {
          "output_type": "stream",
          "name": "stderr",
          "text": [
            "[nltk_data] Downloading package stopwords to /root/nltk_data...\n",
            "[nltk_data]   Unzipping corpora/stopwords.zip.\n"
          ]
        },
        {
          "output_type": "execute_result",
          "data": {
            "text/plain": [
              "True"
            ]
          },
          "metadata": {},
          "execution_count": 15
        }
      ]
    },
    {
      "cell_type": "code",
      "source": [
        "def remove_stopwords(text):\n",
        "    new_text=[]\n",
        "    for word in text.split():\n",
        "        if word in stopwords.words(\"english\"):\n",
        "            new_text.append(\"\")\n",
        "        else:\n",
        "            new_text.append(word.strip())\n",
        "\n",
        "    return \" \".join(new_text).replace(\"   \",\"\")"
      ],
      "metadata": {
        "id": "CgDTwOqjJEMG"
      },
      "execution_count": 16,
      "outputs": []
    },
    {
      "cell_type": "code",
      "source": [
        "customer_df[\"text\"] = customer_df[\"text\"].apply(remove_stopwords)\n",
        "customer_df[\"text\"].head(10)"
      ],
      "metadata": {
        "colab": {
          "base_uri": "https://localhost:8080/"
        },
        "id": "xiMKvt0oJf3m",
        "outputId": "0388f894-c6db-48a2-be1c-6b6a67043acc"
      },
      "execution_count": null,
      "outputs": [
        {
          "output_type": "execute_result",
          "data": {
            "text/plain": [
              "0    115712  understand  would like  assistwould ne...\n",
              "1                                  sprintcare  propose\n",
              "2    sprintcaresent several private messagesone  re...\n",
              "3    115712 please send us  private messageassistcl...\n",
              "4                                         sprintcare  \n",
              "5    115712please send us  private message  gain  d...\n",
              "6                     sprintcareworst customer service\n",
              "7    115713saddening  hear please shoot us  dm  loo...\n",
              "8    sprintcare  gonna magically change  connectivi...\n",
              "9    115713  understand  concerns  wed like please ...\n",
              "Name: text, dtype: object"
            ]
          },
          "metadata": {},
          "execution_count": 111
        }
      ]
    },
    {
      "cell_type": "code",
      "source": [
        "#5 Remove html tags, if any\n",
        "def remove_html_tags(text):\n",
        "  pattern=re.compile('<.*?>')\n",
        "  return pattern.sub(\"\",text)"
      ],
      "metadata": {
        "id": "dUOfFlORLVTn"
      },
      "execution_count": 17,
      "outputs": []
    },
    {
      "cell_type": "code",
      "source": [
        "customer_df[\"text\"] = customer_df[\"text\"].apply(remove_html_tags)\n",
        "customer_df[\"text\"].head(10)"
      ],
      "metadata": {
        "colab": {
          "base_uri": "https://localhost:8080/"
        },
        "id": "pyQ84gblLrvL",
        "outputId": "57a8ad46-800f-4bc5-af3e-80ed7f5b665d"
      },
      "execution_count": 18,
      "outputs": [
        {
          "output_type": "execute_result",
          "data": {
            "text/plain": [
              "0    115712 i understand i would like to assist you...\n",
              "1         sprintcare and how do you propose we do that\n",
              "2    sprintcare i have sent several private message...\n",
              "3    115712 please send us a private message so tha...\n",
              "4                                     sprintcare i did\n",
              "5    115712 can you please send us a private messag...\n",
              "6             sprintcare is the worst customer service\n",
              "7    115713 this is saddening to hear please shoot ...\n",
              "8    sprintcare you gonna magically change your con...\n",
              "9    115713 we understand your concerns and wed lik...\n",
              "Name: text, dtype: object"
            ]
          },
          "metadata": {},
          "execution_count": 18
        }
      ]
    },
    {
      "cell_type": "code",
      "source": [
        "#6 Remove emoji, if any\n",
        "def remove_emoji(text):\n",
        "    clean_text=emoji.demojize(text)\n",
        "    return clean_text"
      ],
      "metadata": {
        "id": "4NUnm-XKMBqh"
      },
      "execution_count": 19,
      "outputs": []
    },
    {
      "cell_type": "code",
      "source": [
        "customer_df[\"text\"] = customer_df[\"text\"].apply(remove_emoji)\n",
        "customer_df[\"text\"].head(10)"
      ],
      "metadata": {
        "colab": {
          "base_uri": "https://localhost:8080/"
        },
        "id": "O4PMHfpHMIVT",
        "outputId": "0e5d7a8f-48db-4f83-e2fd-81a9924fe2ba"
      },
      "execution_count": 20,
      "outputs": [
        {
          "output_type": "execute_result",
          "data": {
            "text/plain": [
              "0    115712 i understand i would like to assist you...\n",
              "1         sprintcare and how do you propose we do that\n",
              "2    sprintcare i have sent several private message...\n",
              "3    115712 please send us a private message so tha...\n",
              "4                                     sprintcare i did\n",
              "5    115712 can you please send us a private messag...\n",
              "6             sprintcare is the worst customer service\n",
              "7    115713 this is saddening to hear please shoot ...\n",
              "8    sprintcare you gonna magically change your con...\n",
              "9    115713 we understand your concerns and wed lik...\n",
              "Name: text, dtype: object"
            ]
          },
          "metadata": {},
          "execution_count": 20
        }
      ]
    },
    {
      "cell_type": "code",
      "source": [
        "#6 Spelling correction\n",
        "def sentiment_calc(text):\n",
        "    try:\n",
        "        return TextBlob(text).correct().string\n",
        "    except:\n",
        "        return None"
      ],
      "metadata": {
        "id": "HKlHJAEBp33P"
      },
      "execution_count": 7,
      "outputs": []
    },
    {
      "cell_type": "code",
      "source": [
        "customer_df[\"text\"] = customer_df[\"text\"].apply(sentiment_calc)"
      ],
      "metadata": {
        "id": "2edIDfikp4E2"
      },
      "execution_count": 13,
      "outputs": []
    },
    {
      "cell_type": "code",
      "source": [
        "customer_df[\"text\"].head(20)"
      ],
      "metadata": {
        "colab": {
          "base_uri": "https://localhost:8080/"
        },
        "id": "-Mw0vToFt3sI",
        "outputId": "4c4eead1-684d-400d-a4b3-164fb9c96bfe"
      },
      "execution_count": 14,
      "outputs": [
        {
          "output_type": "execute_result",
          "data": {
            "text/plain": [
              "0     @115712 I understand. I would like to assist y...\n",
              "1                                                  None\n",
              "2                                                  None\n",
              "3                                                  None\n",
              "4                                                  None\n",
              "5                                                  None\n",
              "6                                                  None\n",
              "7                                                  None\n",
              "8                                                  None\n",
              "9                                                  None\n",
              "10                                                 None\n",
              "11                                                 None\n",
              "12                                                 None\n",
              "13                                                 None\n",
              "14                                                 None\n",
              "15                                                 None\n",
              "16                                                 None\n",
              "17                                                 None\n",
              "18                                                 None\n",
              "19                                                 None\n",
              "Name: text, dtype: object"
            ]
          },
          "metadata": {},
          "execution_count": 14
        }
      ]
    }
  ]
}