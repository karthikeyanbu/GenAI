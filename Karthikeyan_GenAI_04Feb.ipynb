{
  "nbformat": 4,
  "nbformat_minor": 0,
  "metadata": {
    "colab": {
      "provenance": [],
      "authorship_tag": "ABX9TyPCIda+4UoYGPMZW5BqgD0K",
      "include_colab_link": true
    },
    "kernelspec": {
      "name": "python3",
      "display_name": "Python 3"
    },
    "language_info": {
      "name": "python"
    }
  },
  "cells": [
    {
      "cell_type": "markdown",
      "metadata": {
        "id": "view-in-github",
        "colab_type": "text"
      },
      "source": [
        "<a href=\"https://colab.research.google.com/github/karthikeyanbu/GenAI/blob/main/Karthikeyan_GenAI_04Feb.ipynb\" target=\"_parent\"><img src=\"https://colab.research.google.com/assets/colab-badge.svg\" alt=\"Open In Colab\"/></a>"
      ]
    },
    {
      "cell_type": "code",
      "source": [
        "## About the program\n",
        "# Download customer dataset from Kaggle and perform text pre-processing - data cleansing steps and encoding steps\n",
        "# 1. Converting to lowercase\n",
        "# 2. Remove punctuations\n",
        "# 3. Remove URL, if any\n",
        "# 4. Remove stopwords\n",
        "# 5. Remove html tags, if any\n",
        "# 6. Remove emoji, if any\n",
        "# 7. Spelling correction\n",
        "# 8. Abbrevation expansion\n",
        "# 9. Splitting\n",
        "# 10. Stemming\n",
        "# 11. Lemmetization\n",
        "# 12. Encoding - Bag of words\n",
        "# 13. Bigram and Trigram\n",
        "# 14. TF IDF"
      ],
      "metadata": {
        "id": "_ExvCXrzNB9W"
      },
      "execution_count": null,
      "outputs": []
    },
    {
      "cell_type": "code",
      "source": [
        "# Installations\n",
        "!apt-get install wget\n",
        "!wget https://raw.githubusercontent.com/karthikeyanbu/GenAI/main/twcs.csv\n",
        "\n",
        "!pip install emoji\n",
        "import nltk\n",
        "nltk.download(\"punkt\")\n",
        "nltk.download('wordnet')"
      ],
      "metadata": {
        "colab": {
          "base_uri": "https://localhost:8080/"
        },
        "id": "yrsh3d9jNZWk",
        "outputId": "4bce9278-1f79-468c-b279-555831f14b3d"
      },
      "execution_count": 2,
      "outputs": [
        {
          "output_type": "stream",
          "name": "stdout",
          "text": [
            "Reading package lists... Done\n",
            "Building dependency tree... Done\n",
            "Reading state information... Done\n",
            "wget is already the newest version (1.21.2-2ubuntu1).\n",
            "0 upgraded, 0 newly installed, 0 to remove and 32 not upgraded.\n",
            "--2024-02-07 09:45:06--  https://raw.githubusercontent.com/karthikeyanbu/GenAI/main/twcs.csv\n",
            "Resolving raw.githubusercontent.com (raw.githubusercontent.com)... 185.199.108.133, 185.199.109.133, 185.199.110.133, ...\n",
            "Connecting to raw.githubusercontent.com (raw.githubusercontent.com)|185.199.108.133|:443... connected.\n",
            "HTTP request sent, awaiting response... 200 OK\n",
            "Length: 20787426 (20M) [text/plain]\n",
            "Saving to: ‘twcs.csv.1’\n",
            "\n",
            "twcs.csv.1          100%[===================>]  19.82M   131MB/s    in 0.2s    \n",
            "\n",
            "2024-02-07 09:45:06 (131 MB/s) - ‘twcs.csv.1’ saved [20787426/20787426]\n",
            "\n",
            "Requirement already satisfied: emoji in /usr/local/lib/python3.10/dist-packages (2.10.1)\n"
          ]
        },
        {
          "output_type": "stream",
          "name": "stderr",
          "text": [
            "[nltk_data] Downloading package punkt to /root/nltk_data...\n",
            "[nltk_data]   Unzipping tokenizers/punkt.zip.\n",
            "[nltk_data] Downloading package wordnet to /root/nltk_data...\n"
          ]
        },
        {
          "output_type": "execute_result",
          "data": {
            "text/plain": [
              "True"
            ]
          },
          "metadata": {},
          "execution_count": 2
        }
      ]
    },
    {
      "cell_type": "code",
      "source": [
        "# Libraries\n",
        "import pandas as pd\n",
        "import string as str\n",
        "import re\n",
        "import nltk\n",
        "from nltk.corpus import stopwords\n",
        "import emoji\n",
        "import textblob\n",
        "from textblob import TextBlob\n",
        "from nltk.tokenize import word_tokenize,sent_tokenize\n",
        "from nltk.stem import PorterStemmer\n",
        "from nltk.stem import WordNetLemmatizer\n",
        "\n",
        "from sklearn.feature_extraction.text import CountVectorizer\n",
        "from sklearn.feature_extraction.text import TfidfVectorizer"
      ],
      "metadata": {
        "id": "MXdBnZtCNR-J"
      },
      "execution_count": 70,
      "outputs": []
    },
    {
      "cell_type": "code",
      "source": [
        "# Read csv file\n",
        "# Low_memory = False parameter set as per of debug message\n",
        "customer_df = pd.read_csv(\"twcs.csv\", low_memory=False)"
      ],
      "metadata": {
        "id": "PQVxgidd7ZHP"
      },
      "execution_count": 4,
      "outputs": []
    },
    {
      "cell_type": "code",
      "source": [
        "customer_df.head()"
      ],
      "metadata": {
        "colab": {
          "base_uri": "https://localhost:8080/",
          "height": 206
        },
        "id": "nsbiVaRV-ab1",
        "outputId": "8a78b0f1-ffd3-4416-e4d8-bd9e2041c76d"
      },
      "execution_count": 5,
      "outputs": [
        {
          "output_type": "execute_result",
          "data": {
            "text/plain": [
              "   tweet_id   author_id inbound                      created_at  \\\n",
              "0       1.0  sprintcare   False  Tue Oct 31 22:10:47 +0000 2017   \n",
              "1       2.0      115712    True  Tue Oct 31 22:11:45 +0000 2017   \n",
              "2       3.0      115712    True  Tue Oct 31 22:08:27 +0000 2017   \n",
              "3       4.0  sprintcare   False  Tue Oct 31 21:54:49 +0000 2017   \n",
              "4       5.0      115712    True  Tue Oct 31 21:49:35 +0000 2017   \n",
              "\n",
              "                                                text response_tweet_id  \\\n",
              "0  @115712 I understand. I would like to assist y...                 2   \n",
              "1      @sprintcare and how do you propose we do that               NaN   \n",
              "2  @sprintcare I have sent several private messag...                 1   \n",
              "3  @115712 Please send us a Private Message so th...                 3   \n",
              "4                                 @sprintcare I did.                 4   \n",
              "\n",
              "   in_response_to_tweet_id  \n",
              "0                      3.0  \n",
              "1                      1.0  \n",
              "2                      4.0  \n",
              "3                      5.0  \n",
              "4                      6.0  "
            ],
            "text/html": [
              "\n",
              "  <div id=\"df-7b6f77a2-6978-4320-ad02-fdcef252811b\" class=\"colab-df-container\">\n",
              "    <div>\n",
              "<style scoped>\n",
              "    .dataframe tbody tr th:only-of-type {\n",
              "        vertical-align: middle;\n",
              "    }\n",
              "\n",
              "    .dataframe tbody tr th {\n",
              "        vertical-align: top;\n",
              "    }\n",
              "\n",
              "    .dataframe thead th {\n",
              "        text-align: right;\n",
              "    }\n",
              "</style>\n",
              "<table border=\"1\" class=\"dataframe\">\n",
              "  <thead>\n",
              "    <tr style=\"text-align: right;\">\n",
              "      <th></th>\n",
              "      <th>tweet_id</th>\n",
              "      <th>author_id</th>\n",
              "      <th>inbound</th>\n",
              "      <th>created_at</th>\n",
              "      <th>text</th>\n",
              "      <th>response_tweet_id</th>\n",
              "      <th>in_response_to_tweet_id</th>\n",
              "    </tr>\n",
              "  </thead>\n",
              "  <tbody>\n",
              "    <tr>\n",
              "      <th>0</th>\n",
              "      <td>1.0</td>\n",
              "      <td>sprintcare</td>\n",
              "      <td>False</td>\n",
              "      <td>Tue Oct 31 22:10:47 +0000 2017</td>\n",
              "      <td>@115712 I understand. I would like to assist y...</td>\n",
              "      <td>2</td>\n",
              "      <td>3.0</td>\n",
              "    </tr>\n",
              "    <tr>\n",
              "      <th>1</th>\n",
              "      <td>2.0</td>\n",
              "      <td>115712</td>\n",
              "      <td>True</td>\n",
              "      <td>Tue Oct 31 22:11:45 +0000 2017</td>\n",
              "      <td>@sprintcare and how do you propose we do that</td>\n",
              "      <td>NaN</td>\n",
              "      <td>1.0</td>\n",
              "    </tr>\n",
              "    <tr>\n",
              "      <th>2</th>\n",
              "      <td>3.0</td>\n",
              "      <td>115712</td>\n",
              "      <td>True</td>\n",
              "      <td>Tue Oct 31 22:08:27 +0000 2017</td>\n",
              "      <td>@sprintcare I have sent several private messag...</td>\n",
              "      <td>1</td>\n",
              "      <td>4.0</td>\n",
              "    </tr>\n",
              "    <tr>\n",
              "      <th>3</th>\n",
              "      <td>4.0</td>\n",
              "      <td>sprintcare</td>\n",
              "      <td>False</td>\n",
              "      <td>Tue Oct 31 21:54:49 +0000 2017</td>\n",
              "      <td>@115712 Please send us a Private Message so th...</td>\n",
              "      <td>3</td>\n",
              "      <td>5.0</td>\n",
              "    </tr>\n",
              "    <tr>\n",
              "      <th>4</th>\n",
              "      <td>5.0</td>\n",
              "      <td>115712</td>\n",
              "      <td>True</td>\n",
              "      <td>Tue Oct 31 21:49:35 +0000 2017</td>\n",
              "      <td>@sprintcare I did.</td>\n",
              "      <td>4</td>\n",
              "      <td>6.0</td>\n",
              "    </tr>\n",
              "  </tbody>\n",
              "</table>\n",
              "</div>\n",
              "    <div class=\"colab-df-buttons\">\n",
              "\n",
              "  <div class=\"colab-df-container\">\n",
              "    <button class=\"colab-df-convert\" onclick=\"convertToInteractive('df-7b6f77a2-6978-4320-ad02-fdcef252811b')\"\n",
              "            title=\"Convert this dataframe to an interactive table.\"\n",
              "            style=\"display:none;\">\n",
              "\n",
              "  <svg xmlns=\"http://www.w3.org/2000/svg\" height=\"24px\" viewBox=\"0 -960 960 960\">\n",
              "    <path d=\"M120-120v-720h720v720H120Zm60-500h600v-160H180v160Zm220 220h160v-160H400v160Zm0 220h160v-160H400v160ZM180-400h160v-160H180v160Zm440 0h160v-160H620v160ZM180-180h160v-160H180v160Zm440 0h160v-160H620v160Z\"/>\n",
              "  </svg>\n",
              "    </button>\n",
              "\n",
              "  <style>\n",
              "    .colab-df-container {\n",
              "      display:flex;\n",
              "      gap: 12px;\n",
              "    }\n",
              "\n",
              "    .colab-df-convert {\n",
              "      background-color: #E8F0FE;\n",
              "      border: none;\n",
              "      border-radius: 50%;\n",
              "      cursor: pointer;\n",
              "      display: none;\n",
              "      fill: #1967D2;\n",
              "      height: 32px;\n",
              "      padding: 0 0 0 0;\n",
              "      width: 32px;\n",
              "    }\n",
              "\n",
              "    .colab-df-convert:hover {\n",
              "      background-color: #E2EBFA;\n",
              "      box-shadow: 0px 1px 2px rgba(60, 64, 67, 0.3), 0px 1px 3px 1px rgba(60, 64, 67, 0.15);\n",
              "      fill: #174EA6;\n",
              "    }\n",
              "\n",
              "    .colab-df-buttons div {\n",
              "      margin-bottom: 4px;\n",
              "    }\n",
              "\n",
              "    [theme=dark] .colab-df-convert {\n",
              "      background-color: #3B4455;\n",
              "      fill: #D2E3FC;\n",
              "    }\n",
              "\n",
              "    [theme=dark] .colab-df-convert:hover {\n",
              "      background-color: #434B5C;\n",
              "      box-shadow: 0px 1px 3px 1px rgba(0, 0, 0, 0.15);\n",
              "      filter: drop-shadow(0px 1px 2px rgba(0, 0, 0, 0.3));\n",
              "      fill: #FFFFFF;\n",
              "    }\n",
              "  </style>\n",
              "\n",
              "    <script>\n",
              "      const buttonEl =\n",
              "        document.querySelector('#df-7b6f77a2-6978-4320-ad02-fdcef252811b button.colab-df-convert');\n",
              "      buttonEl.style.display =\n",
              "        google.colab.kernel.accessAllowed ? 'block' : 'none';\n",
              "\n",
              "      async function convertToInteractive(key) {\n",
              "        const element = document.querySelector('#df-7b6f77a2-6978-4320-ad02-fdcef252811b');\n",
              "        const dataTable =\n",
              "          await google.colab.kernel.invokeFunction('convertToInteractive',\n",
              "                                                    [key], {});\n",
              "        if (!dataTable) return;\n",
              "\n",
              "        const docLinkHtml = 'Like what you see? Visit the ' +\n",
              "          '<a target=\"_blank\" href=https://colab.research.google.com/notebooks/data_table.ipynb>data table notebook</a>'\n",
              "          + ' to learn more about interactive tables.';\n",
              "        element.innerHTML = '';\n",
              "        dataTable['output_type'] = 'display_data';\n",
              "        await google.colab.output.renderOutput(dataTable, element);\n",
              "        const docLink = document.createElement('div');\n",
              "        docLink.innerHTML = docLinkHtml;\n",
              "        element.appendChild(docLink);\n",
              "      }\n",
              "    </script>\n",
              "  </div>\n",
              "\n",
              "\n",
              "<div id=\"df-5de64539-32b2-4e65-ad02-8b1d62ba467c\">\n",
              "  <button class=\"colab-df-quickchart\" onclick=\"quickchart('df-5de64539-32b2-4e65-ad02-8b1d62ba467c')\"\n",
              "            title=\"Suggest charts\"\n",
              "            style=\"display:none;\">\n",
              "\n",
              "<svg xmlns=\"http://www.w3.org/2000/svg\" height=\"24px\"viewBox=\"0 0 24 24\"\n",
              "     width=\"24px\">\n",
              "    <g>\n",
              "        <path d=\"M19 3H5c-1.1 0-2 .9-2 2v14c0 1.1.9 2 2 2h14c1.1 0 2-.9 2-2V5c0-1.1-.9-2-2-2zM9 17H7v-7h2v7zm4 0h-2V7h2v10zm4 0h-2v-4h2v4z\"/>\n",
              "    </g>\n",
              "</svg>\n",
              "  </button>\n",
              "\n",
              "<style>\n",
              "  .colab-df-quickchart {\n",
              "      --bg-color: #E8F0FE;\n",
              "      --fill-color: #1967D2;\n",
              "      --hover-bg-color: #E2EBFA;\n",
              "      --hover-fill-color: #174EA6;\n",
              "      --disabled-fill-color: #AAA;\n",
              "      --disabled-bg-color: #DDD;\n",
              "  }\n",
              "\n",
              "  [theme=dark] .colab-df-quickchart {\n",
              "      --bg-color: #3B4455;\n",
              "      --fill-color: #D2E3FC;\n",
              "      --hover-bg-color: #434B5C;\n",
              "      --hover-fill-color: #FFFFFF;\n",
              "      --disabled-bg-color: #3B4455;\n",
              "      --disabled-fill-color: #666;\n",
              "  }\n",
              "\n",
              "  .colab-df-quickchart {\n",
              "    background-color: var(--bg-color);\n",
              "    border: none;\n",
              "    border-radius: 50%;\n",
              "    cursor: pointer;\n",
              "    display: none;\n",
              "    fill: var(--fill-color);\n",
              "    height: 32px;\n",
              "    padding: 0;\n",
              "    width: 32px;\n",
              "  }\n",
              "\n",
              "  .colab-df-quickchart:hover {\n",
              "    background-color: var(--hover-bg-color);\n",
              "    box-shadow: 0 1px 2px rgba(60, 64, 67, 0.3), 0 1px 3px 1px rgba(60, 64, 67, 0.15);\n",
              "    fill: var(--button-hover-fill-color);\n",
              "  }\n",
              "\n",
              "  .colab-df-quickchart-complete:disabled,\n",
              "  .colab-df-quickchart-complete:disabled:hover {\n",
              "    background-color: var(--disabled-bg-color);\n",
              "    fill: var(--disabled-fill-color);\n",
              "    box-shadow: none;\n",
              "  }\n",
              "\n",
              "  .colab-df-spinner {\n",
              "    border: 2px solid var(--fill-color);\n",
              "    border-color: transparent;\n",
              "    border-bottom-color: var(--fill-color);\n",
              "    animation:\n",
              "      spin 1s steps(1) infinite;\n",
              "  }\n",
              "\n",
              "  @keyframes spin {\n",
              "    0% {\n",
              "      border-color: transparent;\n",
              "      border-bottom-color: var(--fill-color);\n",
              "      border-left-color: var(--fill-color);\n",
              "    }\n",
              "    20% {\n",
              "      border-color: transparent;\n",
              "      border-left-color: var(--fill-color);\n",
              "      border-top-color: var(--fill-color);\n",
              "    }\n",
              "    30% {\n",
              "      border-color: transparent;\n",
              "      border-left-color: var(--fill-color);\n",
              "      border-top-color: var(--fill-color);\n",
              "      border-right-color: var(--fill-color);\n",
              "    }\n",
              "    40% {\n",
              "      border-color: transparent;\n",
              "      border-right-color: var(--fill-color);\n",
              "      border-top-color: var(--fill-color);\n",
              "    }\n",
              "    60% {\n",
              "      border-color: transparent;\n",
              "      border-right-color: var(--fill-color);\n",
              "    }\n",
              "    80% {\n",
              "      border-color: transparent;\n",
              "      border-right-color: var(--fill-color);\n",
              "      border-bottom-color: var(--fill-color);\n",
              "    }\n",
              "    90% {\n",
              "      border-color: transparent;\n",
              "      border-bottom-color: var(--fill-color);\n",
              "    }\n",
              "  }\n",
              "</style>\n",
              "\n",
              "  <script>\n",
              "    async function quickchart(key) {\n",
              "      const quickchartButtonEl =\n",
              "        document.querySelector('#' + key + ' button');\n",
              "      quickchartButtonEl.disabled = true;  // To prevent multiple clicks.\n",
              "      quickchartButtonEl.classList.add('colab-df-spinner');\n",
              "      try {\n",
              "        const charts = await google.colab.kernel.invokeFunction(\n",
              "            'suggestCharts', [key], {});\n",
              "      } catch (error) {\n",
              "        console.error('Error during call to suggestCharts:', error);\n",
              "      }\n",
              "      quickchartButtonEl.classList.remove('colab-df-spinner');\n",
              "      quickchartButtonEl.classList.add('colab-df-quickchart-complete');\n",
              "    }\n",
              "    (() => {\n",
              "      let quickchartButtonEl =\n",
              "        document.querySelector('#df-5de64539-32b2-4e65-ad02-8b1d62ba467c button');\n",
              "      quickchartButtonEl.style.display =\n",
              "        google.colab.kernel.accessAllowed ? 'block' : 'none';\n",
              "    })();\n",
              "  </script>\n",
              "</div>\n",
              "\n",
              "    </div>\n",
              "  </div>\n"
            ]
          },
          "metadata": {},
          "execution_count": 5
        }
      ]
    },
    {
      "cell_type": "code",
      "source": [
        "customer_df.shape"
      ],
      "metadata": {
        "colab": {
          "base_uri": "https://localhost:8080/"
        },
        "id": "eH6S8ne7-mlF",
        "outputId": "79c63781-458e-4a12-9197-ae4cf407eee4"
      },
      "execution_count": 6,
      "outputs": [
        {
          "output_type": "execute_result",
          "data": {
            "text/plain": [
              "(152758, 7)"
            ]
          },
          "metadata": {},
          "execution_count": 6
        }
      ]
    },
    {
      "cell_type": "code",
      "source": [
        "customer_df.info()"
      ],
      "metadata": {
        "colab": {
          "base_uri": "https://localhost:8080/"
        },
        "id": "9Z5Zksbb_8ic",
        "outputId": "2b21a683-3e0d-47e9-d917-666566b6f57a"
      },
      "execution_count": 7,
      "outputs": [
        {
          "output_type": "stream",
          "name": "stdout",
          "text": [
            "<class 'pandas.core.frame.DataFrame'>\n",
            "RangeIndex: 152758 entries, 0 to 152757\n",
            "Data columns (total 7 columns):\n",
            " #   Column                   Non-Null Count   Dtype  \n",
            "---  ------                   --------------   -----  \n",
            " 0   tweet_id                 109227 non-null  float64\n",
            " 1   author_id                109227 non-null  object \n",
            " 2   inbound                  109227 non-null  object \n",
            " 3   created_at               109227 non-null  object \n",
            " 4   text                     109227 non-null  object \n",
            " 5   response_tweet_id        73904 non-null   object \n",
            " 6   in_response_to_tweet_id  81056 non-null   float64\n",
            "dtypes: float64(2), object(5)\n",
            "memory usage: 8.2+ MB\n"
          ]
        }
      ]
    },
    {
      "cell_type": "code",
      "source": [
        "demo_df = customer_df[0:200]\n",
        "demo_df"
      ],
      "metadata": {
        "colab": {
          "base_uri": "https://localhost:8080/",
          "height": 424
        },
        "id": "TkzvQaXG6Np6",
        "outputId": "1e4e6f97-d432-4ddd-b11a-f37c7937eca5"
      },
      "execution_count": 8,
      "outputs": [
        {
          "output_type": "execute_result",
          "data": {
            "text/plain": [
              "     tweet_id   author_id inbound                      created_at  \\\n",
              "0         1.0  sprintcare   False  Tue Oct 31 22:10:47 +0000 2017   \n",
              "1         2.0      115712    True  Tue Oct 31 22:11:45 +0000 2017   \n",
              "2         3.0      115712    True  Tue Oct 31 22:08:27 +0000 2017   \n",
              "3         4.0  sprintcare   False  Tue Oct 31 21:54:49 +0000 2017   \n",
              "4         5.0      115712    True  Tue Oct 31 21:49:35 +0000 2017   \n",
              "..        ...         ...     ...                             ...   \n",
              "195     283.0      115774    True  Sat Oct 28 13:37:52 +0000 2017   \n",
              "196     284.0   AdobeCare   False  Tue Oct 31 21:54:16 +0000 2017   \n",
              "197     285.0      115775    True  Tue Oct 31 20:16:08 +0000 2017   \n",
              "198     287.0   AdobeCare   False  Thu Oct 26 19:03:22 +0000 2017   \n",
              "199     288.0      115776    True  Thu Oct 26 18:13:19 +0000 2017   \n",
              "\n",
              "                                                  text response_tweet_id  \\\n",
              "0    @115712 I understand. I would like to assist y...                 2   \n",
              "1        @sprintcare and how do you propose we do that               NaN   \n",
              "2    @sprintcare I have sent several private messag...                 1   \n",
              "3    @115712 Please send us a Private Message so th...                 3   \n",
              "4                                   @sprintcare I did.                 4   \n",
              "..                                                 ...               ...   \n",
              "195  @115769 are there any plans to add a fast crop...               282   \n",
              "196  @115775 Thanks for sharing the file, we'll get...               NaN   \n",
              "197  @AdobeCare @115776 It’s intermittent for me. T...          2,84,286   \n",
              "198  @115776 Unfortunately, we are not able to repr...               285   \n",
              "199  @AdobeCare Seems pretty widespread: https://t....               287   \n",
              "\n",
              "     in_response_to_tweet_id  \n",
              "0                        3.0  \n",
              "1                        1.0  \n",
              "2                        4.0  \n",
              "3                        5.0  \n",
              "4                        6.0  \n",
              "..                       ...  \n",
              "195                      NaN  \n",
              "196                    285.0  \n",
              "197                    287.0  \n",
              "198                    288.0  \n",
              "199                    289.0  \n",
              "\n",
              "[200 rows x 7 columns]"
            ],
            "text/html": [
              "\n",
              "  <div id=\"df-54687d7e-c476-4f84-add6-3bd87c78b8ac\" class=\"colab-df-container\">\n",
              "    <div>\n",
              "<style scoped>\n",
              "    .dataframe tbody tr th:only-of-type {\n",
              "        vertical-align: middle;\n",
              "    }\n",
              "\n",
              "    .dataframe tbody tr th {\n",
              "        vertical-align: top;\n",
              "    }\n",
              "\n",
              "    .dataframe thead th {\n",
              "        text-align: right;\n",
              "    }\n",
              "</style>\n",
              "<table border=\"1\" class=\"dataframe\">\n",
              "  <thead>\n",
              "    <tr style=\"text-align: right;\">\n",
              "      <th></th>\n",
              "      <th>tweet_id</th>\n",
              "      <th>author_id</th>\n",
              "      <th>inbound</th>\n",
              "      <th>created_at</th>\n",
              "      <th>text</th>\n",
              "      <th>response_tweet_id</th>\n",
              "      <th>in_response_to_tweet_id</th>\n",
              "    </tr>\n",
              "  </thead>\n",
              "  <tbody>\n",
              "    <tr>\n",
              "      <th>0</th>\n",
              "      <td>1.0</td>\n",
              "      <td>sprintcare</td>\n",
              "      <td>False</td>\n",
              "      <td>Tue Oct 31 22:10:47 +0000 2017</td>\n",
              "      <td>@115712 I understand. I would like to assist y...</td>\n",
              "      <td>2</td>\n",
              "      <td>3.0</td>\n",
              "    </tr>\n",
              "    <tr>\n",
              "      <th>1</th>\n",
              "      <td>2.0</td>\n",
              "      <td>115712</td>\n",
              "      <td>True</td>\n",
              "      <td>Tue Oct 31 22:11:45 +0000 2017</td>\n",
              "      <td>@sprintcare and how do you propose we do that</td>\n",
              "      <td>NaN</td>\n",
              "      <td>1.0</td>\n",
              "    </tr>\n",
              "    <tr>\n",
              "      <th>2</th>\n",
              "      <td>3.0</td>\n",
              "      <td>115712</td>\n",
              "      <td>True</td>\n",
              "      <td>Tue Oct 31 22:08:27 +0000 2017</td>\n",
              "      <td>@sprintcare I have sent several private messag...</td>\n",
              "      <td>1</td>\n",
              "      <td>4.0</td>\n",
              "    </tr>\n",
              "    <tr>\n",
              "      <th>3</th>\n",
              "      <td>4.0</td>\n",
              "      <td>sprintcare</td>\n",
              "      <td>False</td>\n",
              "      <td>Tue Oct 31 21:54:49 +0000 2017</td>\n",
              "      <td>@115712 Please send us a Private Message so th...</td>\n",
              "      <td>3</td>\n",
              "      <td>5.0</td>\n",
              "    </tr>\n",
              "    <tr>\n",
              "      <th>4</th>\n",
              "      <td>5.0</td>\n",
              "      <td>115712</td>\n",
              "      <td>True</td>\n",
              "      <td>Tue Oct 31 21:49:35 +0000 2017</td>\n",
              "      <td>@sprintcare I did.</td>\n",
              "      <td>4</td>\n",
              "      <td>6.0</td>\n",
              "    </tr>\n",
              "    <tr>\n",
              "      <th>...</th>\n",
              "      <td>...</td>\n",
              "      <td>...</td>\n",
              "      <td>...</td>\n",
              "      <td>...</td>\n",
              "      <td>...</td>\n",
              "      <td>...</td>\n",
              "      <td>...</td>\n",
              "    </tr>\n",
              "    <tr>\n",
              "      <th>195</th>\n",
              "      <td>283.0</td>\n",
              "      <td>115774</td>\n",
              "      <td>True</td>\n",
              "      <td>Sat Oct 28 13:37:52 +0000 2017</td>\n",
              "      <td>@115769 are there any plans to add a fast crop...</td>\n",
              "      <td>282</td>\n",
              "      <td>NaN</td>\n",
              "    </tr>\n",
              "    <tr>\n",
              "      <th>196</th>\n",
              "      <td>284.0</td>\n",
              "      <td>AdobeCare</td>\n",
              "      <td>False</td>\n",
              "      <td>Tue Oct 31 21:54:16 +0000 2017</td>\n",
              "      <td>@115775 Thanks for sharing the file, we'll get...</td>\n",
              "      <td>NaN</td>\n",
              "      <td>285.0</td>\n",
              "    </tr>\n",
              "    <tr>\n",
              "      <th>197</th>\n",
              "      <td>285.0</td>\n",
              "      <td>115775</td>\n",
              "      <td>True</td>\n",
              "      <td>Tue Oct 31 20:16:08 +0000 2017</td>\n",
              "      <td>@AdobeCare @115776 It’s intermittent for me. T...</td>\n",
              "      <td>2,84,286</td>\n",
              "      <td>287.0</td>\n",
              "    </tr>\n",
              "    <tr>\n",
              "      <th>198</th>\n",
              "      <td>287.0</td>\n",
              "      <td>AdobeCare</td>\n",
              "      <td>False</td>\n",
              "      <td>Thu Oct 26 19:03:22 +0000 2017</td>\n",
              "      <td>@115776 Unfortunately, we are not able to repr...</td>\n",
              "      <td>285</td>\n",
              "      <td>288.0</td>\n",
              "    </tr>\n",
              "    <tr>\n",
              "      <th>199</th>\n",
              "      <td>288.0</td>\n",
              "      <td>115776</td>\n",
              "      <td>True</td>\n",
              "      <td>Thu Oct 26 18:13:19 +0000 2017</td>\n",
              "      <td>@AdobeCare Seems pretty widespread: https://t....</td>\n",
              "      <td>287</td>\n",
              "      <td>289.0</td>\n",
              "    </tr>\n",
              "  </tbody>\n",
              "</table>\n",
              "<p>200 rows × 7 columns</p>\n",
              "</div>\n",
              "    <div class=\"colab-df-buttons\">\n",
              "\n",
              "  <div class=\"colab-df-container\">\n",
              "    <button class=\"colab-df-convert\" onclick=\"convertToInteractive('df-54687d7e-c476-4f84-add6-3bd87c78b8ac')\"\n",
              "            title=\"Convert this dataframe to an interactive table.\"\n",
              "            style=\"display:none;\">\n",
              "\n",
              "  <svg xmlns=\"http://www.w3.org/2000/svg\" height=\"24px\" viewBox=\"0 -960 960 960\">\n",
              "    <path d=\"M120-120v-720h720v720H120Zm60-500h600v-160H180v160Zm220 220h160v-160H400v160Zm0 220h160v-160H400v160ZM180-400h160v-160H180v160Zm440 0h160v-160H620v160ZM180-180h160v-160H180v160Zm440 0h160v-160H620v160Z\"/>\n",
              "  </svg>\n",
              "    </button>\n",
              "\n",
              "  <style>\n",
              "    .colab-df-container {\n",
              "      display:flex;\n",
              "      gap: 12px;\n",
              "    }\n",
              "\n",
              "    .colab-df-convert {\n",
              "      background-color: #E8F0FE;\n",
              "      border: none;\n",
              "      border-radius: 50%;\n",
              "      cursor: pointer;\n",
              "      display: none;\n",
              "      fill: #1967D2;\n",
              "      height: 32px;\n",
              "      padding: 0 0 0 0;\n",
              "      width: 32px;\n",
              "    }\n",
              "\n",
              "    .colab-df-convert:hover {\n",
              "      background-color: #E2EBFA;\n",
              "      box-shadow: 0px 1px 2px rgba(60, 64, 67, 0.3), 0px 1px 3px 1px rgba(60, 64, 67, 0.15);\n",
              "      fill: #174EA6;\n",
              "    }\n",
              "\n",
              "    .colab-df-buttons div {\n",
              "      margin-bottom: 4px;\n",
              "    }\n",
              "\n",
              "    [theme=dark] .colab-df-convert {\n",
              "      background-color: #3B4455;\n",
              "      fill: #D2E3FC;\n",
              "    }\n",
              "\n",
              "    [theme=dark] .colab-df-convert:hover {\n",
              "      background-color: #434B5C;\n",
              "      box-shadow: 0px 1px 3px 1px rgba(0, 0, 0, 0.15);\n",
              "      filter: drop-shadow(0px 1px 2px rgba(0, 0, 0, 0.3));\n",
              "      fill: #FFFFFF;\n",
              "    }\n",
              "  </style>\n",
              "\n",
              "    <script>\n",
              "      const buttonEl =\n",
              "        document.querySelector('#df-54687d7e-c476-4f84-add6-3bd87c78b8ac button.colab-df-convert');\n",
              "      buttonEl.style.display =\n",
              "        google.colab.kernel.accessAllowed ? 'block' : 'none';\n",
              "\n",
              "      async function convertToInteractive(key) {\n",
              "        const element = document.querySelector('#df-54687d7e-c476-4f84-add6-3bd87c78b8ac');\n",
              "        const dataTable =\n",
              "          await google.colab.kernel.invokeFunction('convertToInteractive',\n",
              "                                                    [key], {});\n",
              "        if (!dataTable) return;\n",
              "\n",
              "        const docLinkHtml = 'Like what you see? Visit the ' +\n",
              "          '<a target=\"_blank\" href=https://colab.research.google.com/notebooks/data_table.ipynb>data table notebook</a>'\n",
              "          + ' to learn more about interactive tables.';\n",
              "        element.innerHTML = '';\n",
              "        dataTable['output_type'] = 'display_data';\n",
              "        await google.colab.output.renderOutput(dataTable, element);\n",
              "        const docLink = document.createElement('div');\n",
              "        docLink.innerHTML = docLinkHtml;\n",
              "        element.appendChild(docLink);\n",
              "      }\n",
              "    </script>\n",
              "  </div>\n",
              "\n",
              "\n",
              "<div id=\"df-81dea708-2a72-4f4f-8fa9-2085e92f0b94\">\n",
              "  <button class=\"colab-df-quickchart\" onclick=\"quickchart('df-81dea708-2a72-4f4f-8fa9-2085e92f0b94')\"\n",
              "            title=\"Suggest charts\"\n",
              "            style=\"display:none;\">\n",
              "\n",
              "<svg xmlns=\"http://www.w3.org/2000/svg\" height=\"24px\"viewBox=\"0 0 24 24\"\n",
              "     width=\"24px\">\n",
              "    <g>\n",
              "        <path d=\"M19 3H5c-1.1 0-2 .9-2 2v14c0 1.1.9 2 2 2h14c1.1 0 2-.9 2-2V5c0-1.1-.9-2-2-2zM9 17H7v-7h2v7zm4 0h-2V7h2v10zm4 0h-2v-4h2v4z\"/>\n",
              "    </g>\n",
              "</svg>\n",
              "  </button>\n",
              "\n",
              "<style>\n",
              "  .colab-df-quickchart {\n",
              "      --bg-color: #E8F0FE;\n",
              "      --fill-color: #1967D2;\n",
              "      --hover-bg-color: #E2EBFA;\n",
              "      --hover-fill-color: #174EA6;\n",
              "      --disabled-fill-color: #AAA;\n",
              "      --disabled-bg-color: #DDD;\n",
              "  }\n",
              "\n",
              "  [theme=dark] .colab-df-quickchart {\n",
              "      --bg-color: #3B4455;\n",
              "      --fill-color: #D2E3FC;\n",
              "      --hover-bg-color: #434B5C;\n",
              "      --hover-fill-color: #FFFFFF;\n",
              "      --disabled-bg-color: #3B4455;\n",
              "      --disabled-fill-color: #666;\n",
              "  }\n",
              "\n",
              "  .colab-df-quickchart {\n",
              "    background-color: var(--bg-color);\n",
              "    border: none;\n",
              "    border-radius: 50%;\n",
              "    cursor: pointer;\n",
              "    display: none;\n",
              "    fill: var(--fill-color);\n",
              "    height: 32px;\n",
              "    padding: 0;\n",
              "    width: 32px;\n",
              "  }\n",
              "\n",
              "  .colab-df-quickchart:hover {\n",
              "    background-color: var(--hover-bg-color);\n",
              "    box-shadow: 0 1px 2px rgba(60, 64, 67, 0.3), 0 1px 3px 1px rgba(60, 64, 67, 0.15);\n",
              "    fill: var(--button-hover-fill-color);\n",
              "  }\n",
              "\n",
              "  .colab-df-quickchart-complete:disabled,\n",
              "  .colab-df-quickchart-complete:disabled:hover {\n",
              "    background-color: var(--disabled-bg-color);\n",
              "    fill: var(--disabled-fill-color);\n",
              "    box-shadow: none;\n",
              "  }\n",
              "\n",
              "  .colab-df-spinner {\n",
              "    border: 2px solid var(--fill-color);\n",
              "    border-color: transparent;\n",
              "    border-bottom-color: var(--fill-color);\n",
              "    animation:\n",
              "      spin 1s steps(1) infinite;\n",
              "  }\n",
              "\n",
              "  @keyframes spin {\n",
              "    0% {\n",
              "      border-color: transparent;\n",
              "      border-bottom-color: var(--fill-color);\n",
              "      border-left-color: var(--fill-color);\n",
              "    }\n",
              "    20% {\n",
              "      border-color: transparent;\n",
              "      border-left-color: var(--fill-color);\n",
              "      border-top-color: var(--fill-color);\n",
              "    }\n",
              "    30% {\n",
              "      border-color: transparent;\n",
              "      border-left-color: var(--fill-color);\n",
              "      border-top-color: var(--fill-color);\n",
              "      border-right-color: var(--fill-color);\n",
              "    }\n",
              "    40% {\n",
              "      border-color: transparent;\n",
              "      border-right-color: var(--fill-color);\n",
              "      border-top-color: var(--fill-color);\n",
              "    }\n",
              "    60% {\n",
              "      border-color: transparent;\n",
              "      border-right-color: var(--fill-color);\n",
              "    }\n",
              "    80% {\n",
              "      border-color: transparent;\n",
              "      border-right-color: var(--fill-color);\n",
              "      border-bottom-color: var(--fill-color);\n",
              "    }\n",
              "    90% {\n",
              "      border-color: transparent;\n",
              "      border-bottom-color: var(--fill-color);\n",
              "    }\n",
              "  }\n",
              "</style>\n",
              "\n",
              "  <script>\n",
              "    async function quickchart(key) {\n",
              "      const quickchartButtonEl =\n",
              "        document.querySelector('#' + key + ' button');\n",
              "      quickchartButtonEl.disabled = true;  // To prevent multiple clicks.\n",
              "      quickchartButtonEl.classList.add('colab-df-spinner');\n",
              "      try {\n",
              "        const charts = await google.colab.kernel.invokeFunction(\n",
              "            'suggestCharts', [key], {});\n",
              "      } catch (error) {\n",
              "        console.error('Error during call to suggestCharts:', error);\n",
              "      }\n",
              "      quickchartButtonEl.classList.remove('colab-df-spinner');\n",
              "      quickchartButtonEl.classList.add('colab-df-quickchart-complete');\n",
              "    }\n",
              "    (() => {\n",
              "      let quickchartButtonEl =\n",
              "        document.querySelector('#df-81dea708-2a72-4f4f-8fa9-2085e92f0b94 button');\n",
              "      quickchartButtonEl.style.display =\n",
              "        google.colab.kernel.accessAllowed ? 'block' : 'none';\n",
              "    })();\n",
              "  </script>\n",
              "</div>\n",
              "\n",
              "  <div id=\"id_ec7e8708-0d27-43b2-8689-17082d891098\">\n",
              "    <style>\n",
              "      .colab-df-generate {\n",
              "        background-color: #E8F0FE;\n",
              "        border: none;\n",
              "        border-radius: 50%;\n",
              "        cursor: pointer;\n",
              "        display: none;\n",
              "        fill: #1967D2;\n",
              "        height: 32px;\n",
              "        padding: 0 0 0 0;\n",
              "        width: 32px;\n",
              "      }\n",
              "\n",
              "      .colab-df-generate:hover {\n",
              "        background-color: #E2EBFA;\n",
              "        box-shadow: 0px 1px 2px rgba(60, 64, 67, 0.3), 0px 1px 3px 1px rgba(60, 64, 67, 0.15);\n",
              "        fill: #174EA6;\n",
              "      }\n",
              "\n",
              "      [theme=dark] .colab-df-generate {\n",
              "        background-color: #3B4455;\n",
              "        fill: #D2E3FC;\n",
              "      }\n",
              "\n",
              "      [theme=dark] .colab-df-generate:hover {\n",
              "        background-color: #434B5C;\n",
              "        box-shadow: 0px 1px 3px 1px rgba(0, 0, 0, 0.15);\n",
              "        filter: drop-shadow(0px 1px 2px rgba(0, 0, 0, 0.3));\n",
              "        fill: #FFFFFF;\n",
              "      }\n",
              "    </style>\n",
              "    <button class=\"colab-df-generate\" onclick=\"generateWithVariable('demo_df')\"\n",
              "            title=\"Generate code using this dataframe.\"\n",
              "            style=\"display:none;\">\n",
              "\n",
              "  <svg xmlns=\"http://www.w3.org/2000/svg\" height=\"24px\"viewBox=\"0 0 24 24\"\n",
              "       width=\"24px\">\n",
              "    <path d=\"M7,19H8.4L18.45,9,17,7.55,7,17.6ZM5,21V16.75L18.45,3.32a2,2,0,0,1,2.83,0l1.4,1.43a1.91,1.91,0,0,1,.58,1.4,1.91,1.91,0,0,1-.58,1.4L9.25,21ZM18.45,9,17,7.55Zm-12,3A5.31,5.31,0,0,0,4.9,8.1,5.31,5.31,0,0,0,1,6.5,5.31,5.31,0,0,0,4.9,4.9,5.31,5.31,0,0,0,6.5,1,5.31,5.31,0,0,0,8.1,4.9,5.31,5.31,0,0,0,12,6.5,5.46,5.46,0,0,0,6.5,12Z\"/>\n",
              "  </svg>\n",
              "    </button>\n",
              "    <script>\n",
              "      (() => {\n",
              "      const buttonEl =\n",
              "        document.querySelector('#id_ec7e8708-0d27-43b2-8689-17082d891098 button.colab-df-generate');\n",
              "      buttonEl.style.display =\n",
              "        google.colab.kernel.accessAllowed ? 'block' : 'none';\n",
              "\n",
              "      buttonEl.onclick = () => {\n",
              "        google.colab.notebook.generateWithVariable('demo_df');\n",
              "      }\n",
              "      })();\n",
              "    </script>\n",
              "  </div>\n",
              "\n",
              "    </div>\n",
              "  </div>\n"
            ]
          },
          "metadata": {},
          "execution_count": 8
        }
      ]
    },
    {
      "cell_type": "code",
      "source": [
        "## text is the field taken for data cleansing\n",
        "# 1. Converting to lowercase\n",
        "demo_df[\"text\"]\n",
        "demo_df[\"text\"] = demo_df[\"text\"].str.lower()\n",
        "demo_df[\"text\"]"
      ],
      "metadata": {
        "colab": {
          "base_uri": "https://localhost:8080/"
        },
        "id": "ooNDTQZ7-qMU",
        "outputId": "9d08fa22-1c14-42ab-e743-365efb840f10"
      },
      "execution_count": 9,
      "outputs": [
        {
          "output_type": "stream",
          "name": "stderr",
          "text": [
            "<ipython-input-9-9d2d155a8531>:4: SettingWithCopyWarning: \n",
            "A value is trying to be set on a copy of a slice from a DataFrame.\n",
            "Try using .loc[row_indexer,col_indexer] = value instead\n",
            "\n",
            "See the caveats in the documentation: https://pandas.pydata.org/pandas-docs/stable/user_guide/indexing.html#returning-a-view-versus-a-copy\n",
            "  demo_df[\"text\"] = demo_df[\"text\"].str.lower()\n"
          ]
        },
        {
          "output_type": "execute_result",
          "data": {
            "text/plain": [
              "0      @115712 i understand. i would like to assist y...\n",
              "1          @sprintcare and how do you propose we do that\n",
              "2      @sprintcare i have sent several private messag...\n",
              "3      @115712 please send us a private message so th...\n",
              "4                                     @sprintcare i did.\n",
              "                             ...                        \n",
              "195    @115769 are there any plans to add a fast crop...\n",
              "196    @115775 thanks for sharing the file, we'll get...\n",
              "197    @adobecare @115776 it’s intermittent for me. t...\n",
              "198    @115776 unfortunately, we are not able to repr...\n",
              "199    @adobecare seems pretty widespread: https://t....\n",
              "Name: text, Length: 200, dtype: object"
            ]
          },
          "metadata": {},
          "execution_count": 9
        }
      ]
    },
    {
      "cell_type": "code",
      "source": [
        "# Check for the presence of punctuation\n",
        "demo_df[\"text\"].dtypes\n",
        "#demo_df[\"text\"] = demo_df[\"text\"].to_string()\n",
        "\n",
        "demo_df\n",
        "for i in demo_df[\"text\"]:\n",
        "  #if (\".\" in i):\n",
        "     print (i)"
      ],
      "metadata": {
        "id": "L_FGwOG8OAud",
        "colab": {
          "base_uri": "https://localhost:8080/"
        },
        "outputId": "9fccdf2b-0803-420b-8372-9be898107a06"
      },
      "execution_count": 10,
      "outputs": [
        {
          "output_type": "stream",
          "name": "stdout",
          "text": [
            "@115712 i understand. i would like to assist you. we would need to get you into a private secured link to further assist.\n",
            "@sprintcare and how do you propose we do that\n",
            "@sprintcare i have sent several private messages and no one is responding as usual\n",
            "@115712 please send us a private message so that we can further assist you. just click ‘message’ at the top of your profile.\n",
            "@sprintcare i did.\n",
            "@115712 can you please send us a private message, so that i can gain further details about your account?\n",
            "@sprintcare is the worst customer service\n",
            "@115713 this is saddening to hear. please shoot us a dm, so that we can look into this for you. -kc\n",
            "@sprintcare you gonna magically change your connectivity for me and my whole family ? 🤥 💯\n",
            "@115713 we understand your concerns and we'd like for you to please send us a direct message, so that we can further assist you. -aa\n",
            "@sprintcare since i signed up with you....since day 1\n",
            "@115713 h there! we'd definitely like to work with you on this, how long have you been experiencing this issue? -aa\n",
            "@115714 y’all lie about your “great” connection. 5 bars lte, still won’t load something. smh.\n",
            "@115715 please send me a private message so that i can send you the link to access your account. -fr\n",
            "@115714 whenever i contact customer support, they tell me i have shortcode enabled on my account, but i have never in the 4 years i've tried https://t.co/0g98rtnxpk\n",
            "@115716 what information is incorrect? ^jk\n",
            "@ask_spectrum would you like me to email you a copy of one since spectrum is not updating your training?\n",
            "@115716 our department is part of the corporate office.  if you're particular area has gone to this format, we were unawa... https://t.co/p7xcmtzpqj\n",
            "@ask_spectrum i received this from your corporate office would you like a copy?\n",
            "@115716 no thank you. ^jk\n",
            "@ask_spectrum the correct way to do it is via an ocs account takeover and email consent form it does not need to be done in a local office\n",
            "@ask_spectrum that is incorrect information i have the form in front of me that is faxed over-maybe you need to maintain up to date information\n",
            "@115716 the information pertaining to the account assumption is correct.  this does need to be done at a local outlet wit... https://t.co/p7xcmtzpqj\n",
            "actually that's a broken link you sent me and incorrect information https://t.co/v4yfrhr8vi\n",
            "@115717 hello, my apologies for any frustrations or inconvenience. i’d be happy to look into this for you? ^mg\n",
            "yo @ask_spectrum, your customer service reps are super nice— but imma start trippin if y’all don’t get my service going!\n",
            "@115718 i apologize for the inconvenience. i will be glad to assist you. can you dm me your name and acct # or phone #? -jb\n",
            "my picture on @ask_spectrum pretty much every day. why should i pay $171 per month? https://t.co/u6ptkqa5ik\n",
            "@115719 help has arrived! we are sorry to see that you are having trouble. how can we help?\n",
            "^hsb\n",
            "@verizonsupport i finally got someone that helped me, thanks!\n",
            "@115719 awesome! if you ever need us we are just a tweet away.\n",
            "^hsb\n",
            "somebody from @verizonsupport please help meeeeee 😩😩😩😩 i'm having the worst luck with your customer service\n",
            "@115720 have your friend message us.\n",
            "^acm\n",
            "@verizonsupport my friend is without internet we need to play videogames together please our skills diminish every moment without internetz\n",
            "@115721 please follow and dm us so that we can look into this order. \n",
            "^hsb\n",
            "@verizonsupport what else can i provide? they refuse to help me because they cannot validate the account...\n",
            "@115721 we would not be able to verify anything without authenticating your account.\n",
            "^jay\n",
            "@verizonsupport how? i have my phone number and email, that's it. how did i get equipment and service? i'm literally trying to pay and nobody can find me?\n",
            "@115721 we can use the order number to locate the account but will need to do so in our secure one on one chat. please follow and dm us. \n",
            "^hsb\n",
            "@115722 md. and this was sent to the wrong address https://t.co/dmq1wzxjok\n",
            "@115721 hello duke, do you have a copy of your bill? what state are your services located in?\n",
            "^nhp\n",
            "@115722 nobody can find my account or number. i walked out of a store with this. i've explained that they can find my acct via my devices serial #..\n",
            "@115721 are you referring to wireless or residential service?\n",
            "^jay\n",
            "@115722 tried to pay a bill for 60 days. no service, rude cs, and several transfers. look up my equipment # and give me an acct #!\n",
            "@115723 is the light on top red?\n",
            "^jay\n",
            "@verizonsupport don’t know, router is downstairs. but it’s just the wifi nothing connected to ethernet\n",
            "@115723 did the lights change on the router when this happened?\n",
            "^jay\n",
            "@verizonsupport just randomly boots me offline there it goes again\n",
            "@115723 do you have our fios service?  when services go out, does the internet light on the router change color? ^bcw\n",
            "@verizonsupport yep\n",
            "@115723 are all your services cutting out?\n",
            "^acm\n",
            "@verizonsupport cuts out every 20 minutes this is ridiculous\n",
            "@115723 what did we do to make you feel this way and how can we fix things between us? ^kmg\n",
            "@115722 is the worst isp i’ve ever had\n",
            "@115724 in what area are you located? all of your services are down at this time?\n",
            "^hsb\n",
            ".@verizonsupport @115725 @115726                                                 &gt;all of verizon is down&lt;\n",
            "when can we expect a fix ?\n",
            "@115727 which app are you referring too? \n",
            "^acm\n",
            "@115725 fix your app it won't even open\n",
            "@115728 i still think you look great! -becky\n",
            "@chipotletweets @chipotletweets becky is very nice\n",
            "@chipotletweets @28 \n",
            "i don't fit in my veggie burrito costume #halloween https://t.co/7tjdvpzlwn\n",
            "@115729 i'm so sorry about that. please tell us more so we can help: https://t.co/ax7w1dx3y9 -becky\n",
            "@chipotletweets messed up today and didn’t give me my $3 burrito although i was dressed up 😭\n",
            "@115730 hopefully we'll get there at some point! -becky\n",
            "hey @chipotletweets wanna come to mammoth. i'll at least eat there once a week i promise\n",
            "@115731 guac on! i'm happy it was such a great experience. -becky\n",
            "@chipotletweets i had excellent service tonight too! plenty of people on the line, went very fast, everyone was kind!\n",
            "@115731 it's because you're smart. -tara\n",
            "when you're the only one in costume #boorito @chipotletweets\n",
            "@115732 that's incredibly concerning. please tell us more here: https://t.co/ax7w1dx3y9 -becky\n",
            "@chipotletweets no diet coke and a literal bone this boorito was extra spooky! https://t.co/c4occtduct\n",
            "@115733 nope! still just the $3. -becky\n",
            "@chipotletweets if you get queso or quac on you're bowl, its extra?\n",
            "just stop by in costume 10/31 3pm-close. official rules: https://t.co/1hmw7qxweh https://t.co/wn0xerxc2z\n",
            "@115734 i mean, boorito is basically the adult version of halloween... -becky\n",
            "happy halloween! since i'm too old to trick or treat i now look forward to $3 booritos at @chipotletweets 👻 i got mine earlier, did you?\n",
            "@115735 i'm so glad we could help. who did you work with? i'd like to share the praise. -becky\n",
            "@chipotletweets thank you @chipotletweets for resolving my issue so quickly!! y’all are the best ☺️ #fanforlife\n",
            "so frustrated with @chipotletweets 😡 ordered dinner on saturday using their app. order was wrong and they charged my credit card twice\n",
            "@115736 all of our u.s. locations are participating! -becky\n",
            "btw @chipotletweets giving out $3 burritos if you dress up for halloween 🎃 call your chipotle to make sure, they’re doing it @ select ones\n",
            "@115737 my apologies for that. just sent you a dm to help. -becky\n",
            "@chipotletweets tried, didn't work. how rude :/\n",
            "@115737 give it a try. -tara\n",
            "@chipotletweets can i dress up as myself and still qualify for a boorito?\n",
            "@115738 that's the best kind of trick-or-treating. all treats, my friend. -becky\n",
            "every year, my trick-or-treating routine is walking to chipotle, spending 3 dollars and walking back home. @chipotletweets\n",
            "@115739 that's incredibly concerning. please provide more details so we can investigate: https://t.co/ax7w1dx3y9 -becky\n",
            "@chipotletweets this is nasty. a used napkin in someone's food https://t.co/ekwid9vhnr\n",
            "@115740 bummer. i'm so sorry. how far away is the closest location? -becky\n",
            "$3 burritos and i’m nowhere near a @chipotletweets 🤦🏾‍♂️\n",
            "@115741 noted 😊 -becky\n",
            "@chipotletweets also i got the onesie at target. so cozy\n",
            "@chipotletweets thanks becky! just feeling sorry for myself because my fiancé is driving from d.c. to mississippi tonight\n",
            "@115741 you won't be alone – we'll be there with you. also, i want that llama onesie. -becky\n",
            "considering walking to @chipotletweets in my llama onesie alone happy halloween 😭\n",
            "@115742 i love it! thanks so much for stopping by. -becky\n",
            "@chipotletweets name a better halloween duo #speedwaybrick #uttranscript https://t.co/5shdrmlc1t\n",
            "@115743 there is no info to share at the moment. feel free to keep an eye on the ps blog for news and updates: https://t.co/altfbaztyc\n",
            "@askplaystation @115743 can i get help already??\n",
            "@askplaystation so, what's the november ps plus free game?\n",
            "@115745  glad to know that is downloading, please feel free to contact us if you have further concerns.\n",
            "@askplaystation it was when i would go to download it. i just waited a few hours till after i bought it and it downloaded now.\n",
            "@115745 sorry for the inconvenience. do you see the data corrupted message when you try to open the game or download it?\n",
            "@askplaystation i bought lego star wars in the playstation store but it won't let me download it because the data is corrupted..\n",
            "@115746  glad to help.  please share the details of this issue in our community forum for further investigation: https://t.co/f3j4l2vjhb\n",
            "@askplaystation can i block a community from sending me invites to something i dont want to join\n",
            "@115747 glad you had fun, sarah! we heard count collin can really suck the life out of the party  . . . :p\n",
            "we had to have a count colin 💛 @marksandspencer xx... https://t.co/hvwkevfskb\n",
            "@115748 we've let our team know we can do better, joel. thanks for sharing :)\n",
            "‘ere @marksandspencer, never mind avocado 🥑 - how’s about ‘ave a word?\n",
            "is it really necessary? \n",
            "\n",
            "the pair of ‘em were suffocating. https://t.co/ff2bmovido\n",
            "@115749 we're only obligated to provide bags for un-packaged meat. as ours is prepackaged, a charge will be applied\n",
            "@marksandspencer raw meat!!!! it’s does not say unwrapped raw meat!!! sainsbury’s don’t charge nor do waitrose so y do you?!\n",
            "@115749 as our packaging is sufficient, any extra wrappings or bags does require an extra 5p charge as per legislation. thanks\n",
            "@marksandspencer i check with the gov office and legal. they stated you are not right. but it’s funny how the other stores don’t but you do. no wonder lidl and the rest are beating you.\n",
            "@marksandspencer ou must charge at least 5p a bag (including vat) for carrier bags that are all of the following:\n",
            "\n",
            "unused - it’s new and hasn’t already been used for sold goods to be taken away or delivered\n",
            "plastic and 70 microns thick or less\n",
            "it has handles, an opening and isn’t sealed\n",
            "@marksandspencer aren’t require charge 4 a bag:\n",
            "paper bags\n",
            "shops in airports, or on board trains, aeroplanes or ships\n",
            "bags which only contain certain items, such as unwrapped food, raw meat and fish where there is a food safety risk, prescription medicines, uncovered blades, seeds, bulbs &amp; 🌷s\n",
            "@marksandspencer y do they charge you for a meat bag at colliers woods branch. if you buy meat you r required to supply customers a free bag. poor service.\n",
            "@115750 love the aesthetic of your colin the 'creeperpillar' and someday.... 🐛🦋👻 https://t.co/lfubix5e4y\n",
            "excellent halloweening @marksandspencer 👌🏼 #countcolin #halloween #food https://t.co/lq1csoohdj\n",
            "@115751 hello, josh! to get better assistance and support, we suggest that you post a tweet or dm our friends from @xboxsupport.\n",
            "@microsofthelps @xboxsupport brilliant, thank you!\n",
            "@microsofthelps hi, having trouble making purchases on xbox one store for fifa points, can you help?\n",
            "@115752 help is here. to assist you in recovering your account we recommend that you contact our answer desk team: https://t.co/7zsm1qxpmd.\n",
            "@microsofthelps i need assistance recovering 2 hotmail accounts. i have  filled the recovery forms but am told am not providing enough info\n",
            "@115753 it appears this has been removed. thanks for letting me know :) ^mb\n",
            "@atviassist @115754 umm someone is streaming wwii with 500+ viewers https://t.co/ahbt7azzsz\n",
            "@115755  no problem, let us know if you come across any other issues or questions in the future. we are happy to help. ^rk\n",
            "@atviassist @115755 i'm trying to buy the digital deluxe edition on the ps store but i keep receiving an error message\n",
            "@115756  hello there. sorry for the late response. i am just checking if you still in need assistance. please let me know. ^rn\n",
            "@atviassist thanks\n",
            "@115755 yes you can pre order the game on the console store. for more information please contact your console store. ^rk\n",
            "@atviassist can you still pre oder ww2 on the playstation store\n",
            "@115757 good afternoon william, unfortunately this app is no longer supported. sincerest apologies. ^jp\n",
            "@115758 @atviassist are yous going to update cod zombies on ios for ios 11.\n",
            "@115759 good afternoon jayden, sadly we don't have information on that. sincerest apologies. ^jp\n",
            "@115758 why was there a half gig update for world at war?\n",
            "@115760 this is awesome! thank you so much for the support! love the costumes! ^tv\n",
            "@108162 @115761 @atviassist tried that there was people so i came back\n",
            "@115762 hey there! you can check out this link for more information in regards to this - https://t.co/oziloncltf ^ko\n",
            "@atviassist so, when i go get the game on friday my 2xp code will be on the receipt?\n",
            "@115762 did gamestop give you a code with your pre order down payment that you needed to redeem? ^ko\n",
            "@atviassist yes, the beta code\n",
            "@115762 have you redeemed that on your https://t.co/4ybn633eok account? even tho it says beta code, your pre order bonus are linked. ^ko\n",
            "@atviassist yes i have, so my code is on their?\n",
            "@atviassist i pre ordered my game at game stop\n",
            "@115762 hello there, i apologize for the delay. can you clarify where you pre-ordered the game? please be sure you keep us updated. ^rn\n",
            "@atviassist for double xp^\n",
            "@atviassist i pre ordered wwii but how do i get the code?\n",
            "@115763 can you please give me your gamertag / platform you're playing on so i can pull up your account information. ^cb\n",
            "@atviassist seth_tubbs and i am on ps4\n",
            "@atviassist i got all of my stats reset on mwr and i don't know why. please help!!!\n",
            "@115764\n",
            "\n",
            "unfortunately we don't have any information on this. please stay tuned for more updates. ^jw\n",
            "@115754 @115765 @atviassist @115766 \n",
            "\n",
            "will non season pass holders get the bobus man carentan at any point? or not at all?\n",
            "@115767 sorry that this isn't more simple... let us know if the steps in the video work out or if you need further help ^madison\n",
            "@adobecare didn't work. tried it on another computer, fresh install, same thing...\n",
            "@115767 would you please dm the adobe product &amp; your purchase details that you have so that we can ask our experts to follow up. ^raj https://t.co/iuwzcjz4or\n",
            "@adobecare sure thing\n",
            "@adobecare the ctrl+alt+shift on load method didn't work. (2/2)\n",
            "@115767 hi jason, could you please try resetting the preferences of photoshop &amp; let us know if it helps with the issue https://t.co/j3dj2hdknm   ^sc\n",
            "@adobecare pretty much explained my issue in the quoted tweet... dragging an image onto a canvas no longer center snaps it...\n",
            "@115767 hi jason, please let us know if there is anything we can do to help. thanks! ^aj https://t.co/iuwzcjz4or\n",
            "any help here @adobecare? https://t.co/x50e57ug4e\n",
            "@115768 hi jeffrey, were you able to update to lightroom classic cc?   ^tanuj\n",
            "@adobecare nope still down.\n",
            "@115768 have you tried signing out/back in or reinstalling the cc desktop app? https://t.co/ne2f7tdtm0 let us know! ^madison\n",
            "@adobecare yes ive done that multiple times. its happened on previous versions as well.\n",
            "@115768 thanks for confirming. we're looping in an expert who can help you out here. they will reply as soon as they're available. ^madison\n",
            "@adobecare ok\n",
            "@adobecare so..when are they available?\n",
            "@115768 sorry for this. let me request the expert to look into this asap as he is in office. ^raj\n",
            "@adobecare ok. its been very frustrating. i have multiple jobs that i need finished and your application isnt helping.\n",
            "@115768 hi jeffrey, we wanted to check if you had managed to install lightroom classic cc. please let us know if you need further assistance. ^nr https://t.co/iuwzcjz4or\n",
            "@adobecare no its still broken. i deleted it and will probably be getting rid of my membership and return when its working properly. thanks\n",
            "@115768 jeffrey did you use the process listed in https://t.co/ccvxxuvxut to delete lightroom classic cc? ^jeff\n",
            "@adobecare ill just wait for the next big update. ive wasted my time and patience with adobe products\n",
            "@115768 jeffrey i am sorry to hear that. if you face future errors please review the installation logs. https://t.co/okpwbiqsxr ^jeff\n",
            "@adobecare yea ive done everything you guys told me to do. i know its not my mac either as i have the retina imac which is fairly new.\n",
            "@115768 hi there, i am looping our expert team to help answer your question. thanks! ^mc\n",
            "@adobecare you guys have been saying that for weeks now. your product went from being great to now unable to work and terrible. very disappointed.\n",
            "@115769 whats going on with your app. its totally stuck here for 1 hour and prior to updating froze and didnt work since updating. https://t.co/upoczpnqfb\n",
            "@115770 こんにちは、アマゾン公式です。fire tv stickが見れないというのは、どのような状況でしょうか。一般的なトラブルシューティングを記載したヘルプがございますので、ご参照ください。https://t.co/2pbg55qj7h et\n",
            "@amazonhelp ありがとうございます。\n",
            "今、電話で主人が対応していただいてます。\n",
            "@amazonhelp 電話で対応してもらいましたが改良されませんでした。\n",
            "保証期間も過ぎてるので買い直しになるんでしょうね。\n",
            "@115770 カスタマーサービスにてお問い合わせ済みとのことで、お手数をおかけいたしました。リプライいただきありがとうございました。et\n",
            "@amazonhelp こちらこそありがとうございました。\n",
            "@115770 恐れ入ります。至らない点も多々あるかとは存じますが、今後ともどうぞよろしくお願いします。et\n",
            "amazonのfiretvstickが見れない😢\n",
            "@115771 hi, you can change your microsoft account email through the steps here: https://t.co/dkehohboyy . if the email your son wants to change to is already associated with a microsoft account, you'll need to follow those steps to switch the email address on that account too. ^zm\n",
            "@xboxsupport can i change me sons xbox live account to his hotmail account, currently linked to my hotmail account\n",
            "@115772 hi there, lightroom 7.0.1 update was launched recently, please update the app to the latest version.  ^ts\n",
            "@115769 did u release an update today for lightroom classic cc?\n",
            "@115773 hi there, please dm us you adobe id so that we may have a quick look at your account details.   ^tanuj https://t.co/iuwzcjz4or\n",
            "please tell me why my @115769 has expired, but i’m still being charged????\n",
            "@115774 hi there, you may suggest it as a feature request at: https://t.co/se1u3g161w .  ^tanuj\n",
            "@115769 are there any plans to add a fast crop mode for the ipad version of lr? it takes too many taps and slows down workflow.\n",
            "@115775 thanks for sharing the file, we'll get back to you with updates as we investigate. ^wren\n",
            "@adobecare @115776 it’s intermittent for me. this file fails reliably: https://t.co/6m5a1rqev9\n",
            "\n",
            "the “create subfolder” option just makes an empty “svg” folder\n",
            "@115776 unfortunately, we are not able to reproduce it at our end. i'll still be checking with the development team to find out more on this. ^om https://t.co/3girhn4vnj\n",
            "@adobecare seems pretty widespread: https://t.co/imomztho5j\n",
            "\n",
            "don't mean to be a jerk, but it's frustrating when an update breaks core functionality.\n"
          ]
        }
      ]
    },
    {
      "cell_type": "code",
      "source": [
        "# Check for the presence of html tags\n",
        "for i in demo_df[\"text\"]:\n",
        "  if (\"https:\" in i):\n",
        "     print (i)"
      ],
      "metadata": {
        "id": "QW69fmwdO0f8",
        "colab": {
          "base_uri": "https://localhost:8080/"
        },
        "outputId": "f9f54ffc-5f53-445b-b7e5-fb8bf995e890"
      },
      "execution_count": 11,
      "outputs": [
        {
          "output_type": "stream",
          "name": "stdout",
          "text": [
            "@115714 whenever i contact customer support, they tell me i have shortcode enabled on my account, but i have never in the 4 years i've tried https://t.co/0g98rtnxpk\n",
            "@115716 our department is part of the corporate office.  if you're particular area has gone to this format, we were unawa... https://t.co/p7xcmtzpqj\n",
            "@115716 the information pertaining to the account assumption is correct.  this does need to be done at a local outlet wit... https://t.co/p7xcmtzpqj\n",
            "actually that's a broken link you sent me and incorrect information https://t.co/v4yfrhr8vi\n",
            "my picture on @ask_spectrum pretty much every day. why should i pay $171 per month? https://t.co/u6ptkqa5ik\n",
            "@115722 md. and this was sent to the wrong address https://t.co/dmq1wzxjok\n",
            "@chipotletweets @28 \n",
            "i don't fit in my veggie burrito costume #halloween https://t.co/7tjdvpzlwn\n",
            "@115729 i'm so sorry about that. please tell us more so we can help: https://t.co/ax7w1dx3y9 -becky\n",
            "@115732 that's incredibly concerning. please tell us more here: https://t.co/ax7w1dx3y9 -becky\n",
            "@chipotletweets no diet coke and a literal bone this boorito was extra spooky! https://t.co/c4occtduct\n",
            "just stop by in costume 10/31 3pm-close. official rules: https://t.co/1hmw7qxweh https://t.co/wn0xerxc2z\n",
            "@115739 that's incredibly concerning. please provide more details so we can investigate: https://t.co/ax7w1dx3y9 -becky\n",
            "@chipotletweets this is nasty. a used napkin in someone's food https://t.co/ekwid9vhnr\n",
            "@chipotletweets name a better halloween duo #speedwaybrick #uttranscript https://t.co/5shdrmlc1t\n",
            "@115743 there is no info to share at the moment. feel free to keep an eye on the ps blog for news and updates: https://t.co/altfbaztyc\n",
            "@115746  glad to help.  please share the details of this issue in our community forum for further investigation: https://t.co/f3j4l2vjhb\n",
            "we had to have a count colin 💛 @marksandspencer xx... https://t.co/hvwkevfskb\n",
            "‘ere @marksandspencer, never mind avocado 🥑 - how’s about ‘ave a word?\n",
            "is it really necessary? \n",
            "\n",
            "the pair of ‘em were suffocating. https://t.co/ff2bmovido\n",
            "@115750 love the aesthetic of your colin the 'creeperpillar' and someday.... 🐛🦋👻 https://t.co/lfubix5e4y\n",
            "excellent halloweening @marksandspencer 👌🏼 #countcolin #halloween #food https://t.co/lq1csoohdj\n",
            "@115752 help is here. to assist you in recovering your account we recommend that you contact our answer desk team: https://t.co/7zsm1qxpmd.\n",
            "@atviassist @115754 umm someone is streaming wwii with 500+ viewers https://t.co/ahbt7azzsz\n",
            "@115762 hey there! you can check out this link for more information in regards to this - https://t.co/oziloncltf ^ko\n",
            "@115762 have you redeemed that on your https://t.co/4ybn633eok account? even tho it says beta code, your pre order bonus are linked. ^ko\n",
            "@115767 would you please dm the adobe product &amp; your purchase details that you have so that we can ask our experts to follow up. ^raj https://t.co/iuwzcjz4or\n",
            "@115767 hi jason, could you please try resetting the preferences of photoshop &amp; let us know if it helps with the issue https://t.co/j3dj2hdknm   ^sc\n",
            "@115767 hi jason, please let us know if there is anything we can do to help. thanks! ^aj https://t.co/iuwzcjz4or\n",
            "any help here @adobecare? https://t.co/x50e57ug4e\n",
            "@115768 have you tried signing out/back in or reinstalling the cc desktop app? https://t.co/ne2f7tdtm0 let us know! ^madison\n",
            "@115768 hi jeffrey, we wanted to check if you had managed to install lightroom classic cc. please let us know if you need further assistance. ^nr https://t.co/iuwzcjz4or\n",
            "@115768 jeffrey did you use the process listed in https://t.co/ccvxxuvxut to delete lightroom classic cc? ^jeff\n",
            "@115768 jeffrey i am sorry to hear that. if you face future errors please review the installation logs. https://t.co/okpwbiqsxr ^jeff\n",
            "@115769 whats going on with your app. its totally stuck here for 1 hour and prior to updating froze and didnt work since updating. https://t.co/upoczpnqfb\n",
            "@115770 こんにちは、アマゾン公式です。fire tv stickが見れないというのは、どのような状況でしょうか。一般的なトラブルシューティングを記載したヘルプがございますので、ご参照ください。https://t.co/2pbg55qj7h et\n",
            "@115771 hi, you can change your microsoft account email through the steps here: https://t.co/dkehohboyy . if the email your son wants to change to is already associated with a microsoft account, you'll need to follow those steps to switch the email address on that account too. ^zm\n",
            "@115773 hi there, please dm us you adobe id so that we may have a quick look at your account details.   ^tanuj https://t.co/iuwzcjz4or\n",
            "@115774 hi there, you may suggest it as a feature request at: https://t.co/se1u3g161w .  ^tanuj\n",
            "@adobecare @115776 it’s intermittent for me. this file fails reliably: https://t.co/6m5a1rqev9\n",
            "\n",
            "the “create subfolder” option just makes an empty “svg” folder\n",
            "@115776 unfortunately, we are not able to reproduce it at our end. i'll still be checking with the development team to find out more on this. ^om https://t.co/3girhn4vnj\n",
            "@adobecare seems pretty widespread: https://t.co/imomztho5j\n",
            "\n",
            "don't mean to be a jerk, but it's frustrating when an update breaks core functionality.\n"
          ]
        }
      ]
    },
    {
      "cell_type": "code",
      "source": [
        "# 2. Remove punctuations\n",
        "exclude = type(str.punctuation)"
      ],
      "metadata": {
        "id": "Xpjh7gFkAU-r"
      },
      "execution_count": 12,
      "outputs": []
    },
    {
      "cell_type": "code",
      "source": [
        "def remove_punc(text):\n",
        "    if not isinstance(text, exclude):\n",
        "        return ''\n",
        "    return re.sub(r'[^\\w\\s]', '', text)"
      ],
      "metadata": {
        "id": "yZFjBO6fBOee"
      },
      "execution_count": 13,
      "outputs": []
    },
    {
      "cell_type": "code",
      "source": [
        "demo_df[\"text\"] = demo_df[\"text\"].apply(remove_punc)\n",
        "demo_df[\"text\"].head(10)"
      ],
      "metadata": {
        "colab": {
          "base_uri": "https://localhost:8080/"
        },
        "id": "X-Ly6HjPBVC9",
        "outputId": "36750aba-4bd1-4c64-8ba6-2851dfba4f3f"
      },
      "execution_count": 14,
      "outputs": [
        {
          "output_type": "stream",
          "name": "stderr",
          "text": [
            "<ipython-input-14-26552bd5c4ee>:1: SettingWithCopyWarning: \n",
            "A value is trying to be set on a copy of a slice from a DataFrame.\n",
            "Try using .loc[row_indexer,col_indexer] = value instead\n",
            "\n",
            "See the caveats in the documentation: https://pandas.pydata.org/pandas-docs/stable/user_guide/indexing.html#returning-a-view-versus-a-copy\n",
            "  demo_df[\"text\"] = demo_df[\"text\"].apply(remove_punc)\n"
          ]
        },
        {
          "output_type": "execute_result",
          "data": {
            "text/plain": [
              "0    115712 i understand i would like to assist you...\n",
              "1         sprintcare and how do you propose we do that\n",
              "2    sprintcare i have sent several private message...\n",
              "3    115712 please send us a private message so tha...\n",
              "4                                     sprintcare i did\n",
              "5    115712 can you please send us a private messag...\n",
              "6             sprintcare is the worst customer service\n",
              "7    115713 this is saddening to hear please shoot ...\n",
              "8    sprintcare you gonna magically change your con...\n",
              "9    115713 we understand your concerns and wed lik...\n",
              "Name: text, dtype: object"
            ]
          },
          "metadata": {},
          "execution_count": 14
        }
      ]
    },
    {
      "cell_type": "code",
      "source": [
        "# 3. Remove URL, if any\n",
        "def remove_url(text):\n",
        "    pattern=re.compile(r'https?://\\S+|www\\.\\S+')\n",
        "    return pattern.sub(\"\",text)"
      ],
      "metadata": {
        "id": "3qCP936WCBNy"
      },
      "execution_count": 15,
      "outputs": []
    },
    {
      "cell_type": "code",
      "source": [
        "demo_df[\"text\"] = demo_df[\"text\"].apply(remove_url)\n",
        "\n",
        "for i in demo_df[\"text\"]:\n",
        "  if (\"https:\" in i):\n",
        "     print (i)"
      ],
      "metadata": {
        "colab": {
          "base_uri": "https://localhost:8080/"
        },
        "id": "lH2zgx12IyGY",
        "outputId": "87e76601-0867-4787-9a41-6533712b67ca"
      },
      "execution_count": 16,
      "outputs": [
        {
          "output_type": "stream",
          "name": "stderr",
          "text": [
            "<ipython-input-16-0e09b11b2e2e>:1: SettingWithCopyWarning: \n",
            "A value is trying to be set on a copy of a slice from a DataFrame.\n",
            "Try using .loc[row_indexer,col_indexer] = value instead\n",
            "\n",
            "See the caveats in the documentation: https://pandas.pydata.org/pandas-docs/stable/user_guide/indexing.html#returning-a-view-versus-a-copy\n",
            "  demo_df[\"text\"] = demo_df[\"text\"].apply(remove_url)\n"
          ]
        }
      ]
    },
    {
      "cell_type": "code",
      "source": [
        "# 4. Remove stopwords\n",
        "nltk.download('stopwords')"
      ],
      "metadata": {
        "colab": {
          "base_uri": "https://localhost:8080/"
        },
        "id": "C7BcqZIuJr64",
        "outputId": "29ed047c-bafe-43b9-cca8-c172286d89bb"
      },
      "execution_count": 17,
      "outputs": [
        {
          "output_type": "stream",
          "name": "stderr",
          "text": [
            "[nltk_data] Downloading package stopwords to /root/nltk_data...\n",
            "[nltk_data]   Unzipping corpora/stopwords.zip.\n"
          ]
        },
        {
          "output_type": "execute_result",
          "data": {
            "text/plain": [
              "True"
            ]
          },
          "metadata": {},
          "execution_count": 17
        }
      ]
    },
    {
      "cell_type": "code",
      "source": [
        "def remove_stopwords(text):\n",
        "    new_text=[]\n",
        "    for word in text.split():\n",
        "        if word in stopwords.words(\"english\"):\n",
        "            new_text.append(\"\")\n",
        "        else:\n",
        "            new_text.append(word.strip())\n",
        "\n",
        "    return \" \".join(new_text).replace(\"   \",\"\")"
      ],
      "metadata": {
        "id": "CgDTwOqjJEMG"
      },
      "execution_count": 18,
      "outputs": []
    },
    {
      "cell_type": "code",
      "source": [
        "demo_df[\"text\"] = demo_df[\"text\"].apply(remove_stopwords)\n",
        "\n",
        "for i in demo_df[\"text\"]:\n",
        "  if (\"https:\" in i):\n",
        "     print (i)"
      ],
      "metadata": {
        "colab": {
          "base_uri": "https://localhost:8080/"
        },
        "id": "xiMKvt0oJf3m",
        "outputId": "e5cc5015-00f5-483a-abf6-982098fc71f8"
      },
      "execution_count": 19,
      "outputs": [
        {
          "output_type": "stream",
          "name": "stderr",
          "text": [
            "<ipython-input-19-16750eb7d0c1>:1: SettingWithCopyWarning: \n",
            "A value is trying to be set on a copy of a slice from a DataFrame.\n",
            "Try using .loc[row_indexer,col_indexer] = value instead\n",
            "\n",
            "See the caveats in the documentation: https://pandas.pydata.org/pandas-docs/stable/user_guide/indexing.html#returning-a-view-versus-a-copy\n",
            "  demo_df[\"text\"] = demo_df[\"text\"].apply(remove_stopwords)\n"
          ]
        }
      ]
    },
    {
      "cell_type": "code",
      "source": [
        "# 5. Remove html tags, if any\n",
        "def remove_html_tags(text):\n",
        "  pattern=re.compile('<.*?>')\n",
        "  return pattern.sub(\"\",text)"
      ],
      "metadata": {
        "id": "dUOfFlORLVTn"
      },
      "execution_count": 20,
      "outputs": []
    },
    {
      "cell_type": "code",
      "source": [
        "print (\"Before html tag removal\")\n",
        "for i in demo_df[\"text\"]:\n",
        "  if (\"https:\" in i):\n",
        "     print (i)\n",
        "\n",
        "demo_df[\"text\"] = demo_df[\"text\"].apply(remove_html_tags)\n",
        "\n",
        "print (\"Before html tag removal\")\n",
        "for i in demo_df[\"text\"]:\n",
        "  if (\"https:\" in i):\n",
        "     print (i)"
      ],
      "metadata": {
        "colab": {
          "base_uri": "https://localhost:8080/"
        },
        "id": "pyQ84gblLrvL",
        "outputId": "ab9f5fea-dbef-48f3-f3b4-16dac51260d8"
      },
      "execution_count": 21,
      "outputs": [
        {
          "output_type": "stream",
          "name": "stdout",
          "text": [
            "Before html tag removal\n",
            "Before html tag removal\n"
          ]
        },
        {
          "output_type": "stream",
          "name": "stderr",
          "text": [
            "<ipython-input-21-807fe77d6b78>:6: SettingWithCopyWarning: \n",
            "A value is trying to be set on a copy of a slice from a DataFrame.\n",
            "Try using .loc[row_indexer,col_indexer] = value instead\n",
            "\n",
            "See the caveats in the documentation: https://pandas.pydata.org/pandas-docs/stable/user_guide/indexing.html#returning-a-view-versus-a-copy\n",
            "  demo_df[\"text\"] = demo_df[\"text\"].apply(remove_html_tags)\n"
          ]
        }
      ]
    },
    {
      "cell_type": "code",
      "source": [
        "# 6. Remove emoji, if any\n",
        "def remove_emoji(text):\n",
        "    clean_text=emoji.demojize(text)\n",
        "    return clean_text"
      ],
      "metadata": {
        "id": "4NUnm-XKMBqh"
      },
      "execution_count": 22,
      "outputs": []
    },
    {
      "cell_type": "code",
      "source": [
        "demo_df[\"text\"] = demo_df[\"text\"].apply(remove_emoji)\n",
        "\n",
        "for i in demo_df[\"text\"]:\n",
        "  if (\"colin\" in i):\n",
        "     print (i)\n"
      ],
      "metadata": {
        "colab": {
          "base_uri": "https://localhost:8080/"
        },
        "id": "O4PMHfpHMIVT",
        "outputId": "c92c28f2-c4f4-4499-de23-d432a2f48d21"
      },
      "execution_count": 23,
      "outputs": [
        {
          "output_type": "stream",
          "name": "stdout",
          "text": [
            "  count colin marksandspencer xx httpstcohvwkevfskb\n",
            "115750 love  aestheticcolin  creeperpillar  someday httpstcolfubix5e4y\n",
            "excellent halloweening marksandspencer countcolin halloween food httpstcolq1csoohdj\n"
          ]
        },
        {
          "output_type": "stream",
          "name": "stderr",
          "text": [
            "<ipython-input-23-fa23eac5574f>:1: SettingWithCopyWarning: \n",
            "A value is trying to be set on a copy of a slice from a DataFrame.\n",
            "Try using .loc[row_indexer,col_indexer] = value instead\n",
            "\n",
            "See the caveats in the documentation: https://pandas.pydata.org/pandas-docs/stable/user_guide/indexing.html#returning-a-view-versus-a-copy\n",
            "  demo_df[\"text\"] = demo_df[\"text\"].apply(remove_emoji)\n"
          ]
        }
      ]
    },
    {
      "cell_type": "code",
      "source": [
        "# 7. Spelling correction\n",
        "def spelling_correct(text):\n",
        "    try:\n",
        "        return TextBlob(text).correct().string\n",
        "    except:\n",
        "        return None"
      ],
      "metadata": {
        "id": "HKlHJAEBp33P"
      },
      "execution_count": 24,
      "outputs": []
    },
    {
      "cell_type": "code",
      "source": [
        "demo_df[\"text\"][0:10] = demo_df[\"text\"][0:10].apply(spelling_correct)\n",
        "demo_df[\"text\"][0:10]"
      ],
      "metadata": {
        "id": "2edIDfikp4E2",
        "colab": {
          "base_uri": "https://localhost:8080/"
        },
        "outputId": "74a8ed17-60ee-459a-a006-e957a3873857"
      },
      "execution_count": 25,
      "outputs": [
        {
          "output_type": "stream",
          "name": "stderr",
          "text": [
            "<ipython-input-25-0b1883eac94f>:1: SettingWithCopyWarning: \n",
            "A value is trying to be set on a copy of a slice from a DataFrame\n",
            "\n",
            "See the caveats in the documentation: https://pandas.pydata.org/pandas-docs/stable/user_guide/indexing.html#returning-a-view-versus-a-copy\n",
            "  demo_df[\"text\"][0:10] = demo_df[\"text\"][0:10].apply(spelling_correct)\n"
          ]
        },
        {
          "output_type": "execute_result",
          "data": {
            "text/plain": [
              "0    115712  understand  would like  assistwould ne...\n",
              "1                                  sprintcare  propose\n",
              "2    sprintcaresent several private messagesone  re...\n",
              "3    115712 please send us  private messageassistcl...\n",
              "4                                         sprintcare  \n",
              "5    115712please send us  private message  gain  d...\n",
              "6                     sprintcareworst customer service\n",
              "7    115713saddening  hear please shoot us  do  loo...\n",
              "8    sprintcare  donna magically change  conductivi...\n",
              "9    115713  understand  concerns  wed like please ...\n",
              "Name: text, dtype: object"
            ]
          },
          "metadata": {},
          "execution_count": 25
        }
      ]
    },
    {
      "cell_type": "code",
      "source": [
        "# 8. Abbrevation expansion\n",
        "\n",
        "chat_words={\n",
        "    \" AFAIK\":\"As Far As I Know\",\n",
        "    \"AFK\": \"Away From Keyboard\",\n",
        "    \"ASAP\":\"As Soon As Possible\",\n",
        "    \"BTW\":\"By The Way\",\n",
        "    \"B4\":\"Before\",\n",
        "    \"LAMO\":\"Laugh My A.. Off\",\n",
        "    \"FYI\":\"For your information\"\n",
        "}"
      ],
      "metadata": {
        "id": "-Mw0vToFt3sI"
      },
      "execution_count": 26,
      "outputs": []
    },
    {
      "cell_type": "code",
      "source": [
        "def chat_conversion(text):\n",
        "    new_text=[]\n",
        "    for w in text.split():\n",
        "        if w.upper() in chat_words:\n",
        "            new_text.append(chat_words[w.upper()])\n",
        "        else:\n",
        "            new_text.append(w)\n",
        "    return \" \".join(new_text)"
      ],
      "metadata": {
        "id": "RNL6etVi0iIc"
      },
      "execution_count": 27,
      "outputs": []
    },
    {
      "cell_type": "code",
      "source": [
        "demo_df[\"text\"] = demo_df[\"text\"].apply(chat_conversion)\n",
        "demo_df[\"text\"]"
      ],
      "metadata": {
        "colab": {
          "base_uri": "https://localhost:8080/"
        },
        "id": "K97abRuz0iS7",
        "outputId": "35f79d7f-e4ca-4bea-b7f3-4562a8856fb7"
      },
      "execution_count": 28,
      "outputs": [
        {
          "output_type": "stream",
          "name": "stderr",
          "text": [
            "<ipython-input-28-da336e8e0332>:1: SettingWithCopyWarning: \n",
            "A value is trying to be set on a copy of a slice from a DataFrame.\n",
            "Try using .loc[row_indexer,col_indexer] = value instead\n",
            "\n",
            "See the caveats in the documentation: https://pandas.pydata.org/pandas-docs/stable/user_guide/indexing.html#returning-a-view-versus-a-copy\n",
            "  demo_df[\"text\"] = demo_df[\"text\"].apply(chat_conversion)\n"
          ]
        },
        {
          "output_type": "execute_result",
          "data": {
            "text/plain": [
              "0      115712 understand would like assistwould need ...\n",
              "1                                     sprintcare propose\n",
              "2      sprintcaresent several private messagesone res...\n",
              "3      115712 please send us private messageassistcli...\n",
              "4                                             sprintcare\n",
              "                             ...                        \n",
              "195    115769 plans add fast crop modeipad version lr...\n",
              "196    115775 thanks sharing file well get back updat...\n",
              "197    adobecare 115776 intermittent file fails relia...\n",
              "198    115776 unfortunately able reproduce end ill st...\n",
              "199    adobecare seems pretty widespread httpstcoimom...\n",
              "Name: text, Length: 200, dtype: object"
            ]
          },
          "metadata": {},
          "execution_count": 28
        }
      ]
    },
    {
      "cell_type": "code",
      "source": [
        "# 9. Splitting\n",
        "\n",
        "demo_df[\"text\"][0].split(\".\")"
      ],
      "metadata": {
        "colab": {
          "base_uri": "https://localhost:8080/"
        },
        "id": "BFsjQ6cCA6TN",
        "outputId": "59db964c-28e3-49e1-80e3-5e351fe7c6a7"
      },
      "execution_count": 29,
      "outputs": [
        {
          "output_type": "execute_result",
          "data": {
            "text/plain": [
              "['115712 understand would like assistwould need get private secured linkassist']"
            ]
          },
          "metadata": {},
          "execution_count": 29
        }
      ]
    },
    {
      "cell_type": "code",
      "source": [
        "demo_df[\"text\"][0].split()"
      ],
      "metadata": {
        "colab": {
          "base_uri": "https://localhost:8080/"
        },
        "id": "bRbuET7ABOEa",
        "outputId": "cd57314e-b0fc-45fd-dfa6-4c5056295aa4"
      },
      "execution_count": 30,
      "outputs": [
        {
          "output_type": "execute_result",
          "data": {
            "text/plain": [
              "['115712',\n",
              " 'understand',\n",
              " 'would',\n",
              " 'like',\n",
              " 'assistwould',\n",
              " 'need',\n",
              " 'get',\n",
              " 'private',\n",
              " 'secured',\n",
              " 'linkassist']"
            ]
          },
          "metadata": {},
          "execution_count": 30
        }
      ]
    },
    {
      "cell_type": "code",
      "source": [
        "word_tokenize(demo_df[\"text\"][0])"
      ],
      "metadata": {
        "colab": {
          "base_uri": "https://localhost:8080/"
        },
        "id": "K6gSmFGNBZaz",
        "outputId": "2b44d8fc-95c1-4a51-8f90-9b6074be976d"
      },
      "execution_count": 31,
      "outputs": [
        {
          "output_type": "execute_result",
          "data": {
            "text/plain": [
              "['115712',\n",
              " 'understand',\n",
              " 'would',\n",
              " 'like',\n",
              " 'assistwould',\n",
              " 'need',\n",
              " 'get',\n",
              " 'private',\n",
              " 'secured',\n",
              " 'linkassist']"
            ]
          },
          "metadata": {},
          "execution_count": 31
        }
      ]
    },
    {
      "cell_type": "code",
      "source": [
        "sent_tokenize(demo_df[\"text\"][0])"
      ],
      "metadata": {
        "colab": {
          "base_uri": "https://localhost:8080/"
        },
        "id": "NXNH8yA3B1Mi",
        "outputId": "f2683e0e-8d83-4c71-cd65-9910e7488fef"
      },
      "execution_count": 32,
      "outputs": [
        {
          "output_type": "execute_result",
          "data": {
            "text/plain": [
              "['115712 understand would like assistwould need get private secured linkassist']"
            ]
          },
          "metadata": {},
          "execution_count": 32
        }
      ]
    },
    {
      "cell_type": "code",
      "source": [
        "# 10. Stemming\n",
        "\n",
        "def stemming(text):\n",
        "    obj=PorterStemmer()\n",
        "    stem_word=[obj.stem(word) for word in text.split()]\n",
        "    return stem_word"
      ],
      "metadata": {
        "id": "jTRCHc_PCdpo"
      },
      "execution_count": 33,
      "outputs": []
    },
    {
      "cell_type": "code",
      "source": [
        "stemming(demo_df[\"text\"][0])"
      ],
      "metadata": {
        "colab": {
          "base_uri": "https://localhost:8080/"
        },
        "id": "NWS8e8QlDFug",
        "outputId": "f86710c2-73e4-466f-cfb6-d784eddfc0c3"
      },
      "execution_count": 34,
      "outputs": [
        {
          "output_type": "execute_result",
          "data": {
            "text/plain": [
              "['115712',\n",
              " 'understand',\n",
              " 'would',\n",
              " 'like',\n",
              " 'assistwould',\n",
              " 'need',\n",
              " 'get',\n",
              " 'privat',\n",
              " 'secur',\n",
              " 'linkassist']"
            ]
          },
          "metadata": {},
          "execution_count": 34
        }
      ]
    },
    {
      "cell_type": "code",
      "source": [
        "# 11. Lemmetization\n",
        "\n",
        "def lemmetization(text):\n",
        "    words=text.split()\n",
        "    lemmetizer=WordNetLemmatizer()\n",
        "    lemmetized_word=[lemmetizer.lemmatize(word) for word in words]\n",
        "    return lemmetized_word"
      ],
      "metadata": {
        "id": "f4hEzndgENND"
      },
      "execution_count": 35,
      "outputs": []
    },
    {
      "cell_type": "code",
      "source": [
        "lemmetization(demo_df[\"text\"][0])"
      ],
      "metadata": {
        "colab": {
          "base_uri": "https://localhost:8080/"
        },
        "id": "7qQYlaLvEbuD",
        "outputId": "9eb262b1-aa53-4b8d-bea0-437a0f158338"
      },
      "execution_count": 36,
      "outputs": [
        {
          "output_type": "execute_result",
          "data": {
            "text/plain": [
              "['115712',\n",
              " 'understand',\n",
              " 'would',\n",
              " 'like',\n",
              " 'assistwould',\n",
              " 'need',\n",
              " 'get',\n",
              " 'private',\n",
              " 'secured',\n",
              " 'linkassist']"
            ]
          },
          "metadata": {},
          "execution_count": 36
        }
      ]
    },
    {
      "cell_type": "code",
      "source": [
        "# 12. Encoding - Bag of words\n",
        "\n",
        "BOW=CountVectorizer()\n",
        "\n",
        "document_matrix=BOW.fit_transform(demo_df[\"text\"][0:4])\n",
        "\n",
        "document_matrix"
      ],
      "metadata": {
        "colab": {
          "base_uri": "https://localhost:8080/"
        },
        "id": "P8YMb4ye93--",
        "outputId": "3b94d6aa-70db-4948-cd8c-d6542c429e6a"
      },
      "execution_count": 42,
      "outputs": [
        {
          "output_type": "execute_result",
          "data": {
            "text/plain": [
              "<4x22 sparse matrix of type '<class 'numpy.int64'>'\n",
              "\twith 25 stored elements in Compressed Sparse Row format>"
            ]
          },
          "metadata": {},
          "execution_count": 42
        }
      ]
    },
    {
      "cell_type": "code",
      "source": [
        "BOW.vocabulary_"
      ],
      "metadata": {
        "colab": {
          "base_uri": "https://localhost:8080/"
        },
        "id": "_fkti3eW-VGB",
        "outputId": "678e5f90-037b-4d76-f6f5-7cb916c0472a"
      },
      "execution_count": 44,
      "outputs": [
        {
          "output_type": "execute_result",
          "data": {
            "text/plain": [
              "{'115712': 0,\n",
              " 'understand': 18,\n",
              " 'would': 21,\n",
              " 'like': 3,\n",
              " 'assistwould': 1,\n",
              " 'need': 8,\n",
              " 'get': 2,\n",
              " 'private': 10,\n",
              " 'secured': 13,\n",
              " 'linkassist': 4,\n",
              " 'sprintcare': 16,\n",
              " 'propose': 11,\n",
              " 'sprintcaresent': 17,\n",
              " 'several': 15,\n",
              " 'messagesone': 6,\n",
              " 'responding': 12,\n",
              " 'usual': 20,\n",
              " 'please': 9,\n",
              " 'send': 14,\n",
              " 'us': 19,\n",
              " 'messageassistclick': 5,\n",
              " 'messagetopprofile': 7}"
            ]
          },
          "metadata": {},
          "execution_count": 44
        }
      ]
    },
    {
      "cell_type": "code",
      "source": [
        "document_matrix[0].toarray()"
      ],
      "metadata": {
        "colab": {
          "base_uri": "https://localhost:8080/"
        },
        "id": "jusfHnSy-m2O",
        "outputId": "697f15ae-4a9d-43ca-a324-9af9bc10f8a7"
      },
      "execution_count": 48,
      "outputs": [
        {
          "output_type": "execute_result",
          "data": {
            "text/plain": [
              "array([[1, 1, 1, 1, 1, 0, 0, 0, 1, 0, 1, 0, 0, 1, 0, 0, 0, 0, 1, 0, 0, 1]])"
            ]
          },
          "metadata": {},
          "execution_count": 48
        }
      ]
    },
    {
      "cell_type": "code",
      "source": [
        "document_matrix[1].toarray()"
      ],
      "metadata": {
        "colab": {
          "base_uri": "https://localhost:8080/"
        },
        "id": "uCTQ76s2-9o-",
        "outputId": "3e0af1b6-9a98-4239-aacd-5658db18923f"
      },
      "execution_count": 50,
      "outputs": [
        {
          "output_type": "execute_result",
          "data": {
            "text/plain": [
              "array([[0, 0, 0, 0, 0, 0, 0, 0, 0, 0, 0, 1, 0, 0, 0, 0, 1, 0, 0, 0, 0, 0]])"
            ]
          },
          "metadata": {},
          "execution_count": 50
        }
      ]
    },
    {
      "cell_type": "code",
      "source": [
        "document_matrix[2].toarray()"
      ],
      "metadata": {
        "colab": {
          "base_uri": "https://localhost:8080/"
        },
        "id": "SNsv1FmM_CXc",
        "outputId": "910442dd-435f-40b8-d871-6333b6874c29"
      },
      "execution_count": 52,
      "outputs": [
        {
          "output_type": "execute_result",
          "data": {
            "text/plain": [
              "array([[0, 0, 0, 0, 0, 0, 1, 0, 0, 0, 1, 0, 1, 0, 0, 1, 0, 1, 0, 0, 1, 0]])"
            ]
          },
          "metadata": {},
          "execution_count": 52
        }
      ]
    },
    {
      "cell_type": "code",
      "source": [
        "document_matrix[3].toarray()"
      ],
      "metadata": {
        "colab": {
          "base_uri": "https://localhost:8080/"
        },
        "id": "MlBBbPVc_F-8",
        "outputId": "b5799175-8231-40d9-a018-7b251371b709"
      },
      "execution_count": 55,
      "outputs": [
        {
          "output_type": "execute_result",
          "data": {
            "text/plain": [
              "array([[1, 0, 0, 0, 0, 1, 0, 1, 0, 1, 1, 0, 0, 0, 1, 0, 0, 0, 0, 1, 0, 0]])"
            ]
          },
          "metadata": {},
          "execution_count": 55
        }
      ]
    },
    {
      "cell_type": "code",
      "source": [
        "# 13. Bigram and Trigram\n",
        "bigram=CountVectorizer(ngram_range=(2,2))"
      ],
      "metadata": {
        "id": "RJGeCwp3_awk"
      },
      "execution_count": 58,
      "outputs": []
    },
    {
      "cell_type": "code",
      "source": [
        "bigramvocab=bigram.fit_transform(demo_df[\"text\"][0:4])\n",
        "bigram.vocabulary_"
      ],
      "metadata": {
        "colab": {
          "base_uri": "https://localhost:8080/"
        },
        "id": "asTsdQl-_npE",
        "outputId": "e19cb099-8777-42e4-9216-d79edb921b3a"
      },
      "execution_count": 60,
      "outputs": [
        {
          "output_type": "execute_result",
          "data": {
            "text/plain": [
              "{'115712 understand': 1,\n",
              " 'understand would': 18,\n",
              " 'would like': 20,\n",
              " 'like assistwould': 4,\n",
              " 'assistwould need': 2,\n",
              " 'need get': 7,\n",
              " 'get private': 3,\n",
              " 'private secured': 11,\n",
              " 'secured linkassist': 13,\n",
              " 'sprintcare propose': 16,\n",
              " 'sprintcaresent several': 17,\n",
              " 'several private': 15,\n",
              " 'private messagesone': 10,\n",
              " 'messagesone responding': 6,\n",
              " 'responding usual': 12,\n",
              " '115712 please': 0,\n",
              " 'please send': 8,\n",
              " 'send us': 14,\n",
              " 'us private': 19,\n",
              " 'private messageassistclick': 9,\n",
              " 'messageassistclick messagetopprofile': 5}"
            ]
          },
          "metadata": {},
          "execution_count": 60
        }
      ]
    },
    {
      "cell_type": "code",
      "source": [
        "trigram=CountVectorizer(ngram_range=(3,3))"
      ],
      "metadata": {
        "id": "F__XXvAZ_5zW"
      },
      "execution_count": 61,
      "outputs": []
    },
    {
      "cell_type": "code",
      "source": [
        "trigramvocab=trigram.fit_transform(demo_df[\"text\"][0:4])\n",
        "trigram.vocabulary_"
      ],
      "metadata": {
        "colab": {
          "base_uri": "https://localhost:8080/"
        },
        "id": "o5e1d7dP_-Hs",
        "outputId": "426e0b84-bf7d-4afd-9b29-06113d23d9f4"
      },
      "execution_count": 62,
      "outputs": [
        {
          "output_type": "execute_result",
          "data": {
            "text/plain": [
              "{'115712 understand would': 1,\n",
              " 'understand would like': 14,\n",
              " 'would like assistwould': 16,\n",
              " 'like assistwould need': 4,\n",
              " 'assistwould need get': 2,\n",
              " 'need get private': 6,\n",
              " 'get private secured': 3,\n",
              " 'private secured linkassist': 10,\n",
              " 'sprintcaresent several private': 13,\n",
              " 'several private messagesone': 12,\n",
              " 'private messagesone responding': 9,\n",
              " 'messagesone responding usual': 5,\n",
              " '115712 please send': 0,\n",
              " 'please send us': 7,\n",
              " 'send us private': 11,\n",
              " 'us private messageassistclick': 15,\n",
              " 'private messageassistclick messagetopprofile': 8}"
            ]
          },
          "metadata": {},
          "execution_count": 62
        }
      ]
    },
    {
      "cell_type": "code",
      "source": [
        "mix=CountVectorizer(ngram_range=(1,2))"
      ],
      "metadata": {
        "id": "9-rIFEUwAMEf"
      },
      "execution_count": 65,
      "outputs": []
    },
    {
      "cell_type": "code",
      "source": [
        "mixvocab=mix.fit_transform(demo_df[\"text\"][0:4])\n",
        "mix.vocabulary_"
      ],
      "metadata": {
        "colab": {
          "base_uri": "https://localhost:8080/"
        },
        "id": "4Irpt7mcAwtc",
        "outputId": "e12ab0c5-8605-4a4d-fff3-3caa8daf711a"
      },
      "execution_count": 68,
      "outputs": [
        {
          "output_type": "execute_result",
          "data": {
            "text/plain": [
              "{'115712': 0,\n",
              " 'understand': 36,\n",
              " 'would': 41,\n",
              " 'like': 7,\n",
              " 'assistwould': 3,\n",
              " 'need': 15,\n",
              " 'get': 5,\n",
              " 'private': 19,\n",
              " 'secured': 26,\n",
              " 'linkassist': 9,\n",
              " '115712 understand': 2,\n",
              " 'understand would': 37,\n",
              " 'would like': 42,\n",
              " 'like assistwould': 8,\n",
              " 'assistwould need': 4,\n",
              " 'need get': 16,\n",
              " 'get private': 6,\n",
              " 'private secured': 22,\n",
              " 'secured linkassist': 27,\n",
              " 'sprintcare': 32,\n",
              " 'propose': 23,\n",
              " 'sprintcare propose': 33,\n",
              " 'sprintcaresent': 34,\n",
              " 'several': 30,\n",
              " 'messagesone': 12,\n",
              " 'responding': 24,\n",
              " 'usual': 40,\n",
              " 'sprintcaresent several': 35,\n",
              " 'several private': 31,\n",
              " 'private messagesone': 21,\n",
              " 'messagesone responding': 13,\n",
              " 'responding usual': 25,\n",
              " 'please': 17,\n",
              " 'send': 28,\n",
              " 'us': 38,\n",
              " 'messageassistclick': 10,\n",
              " 'messagetopprofile': 14,\n",
              " '115712 please': 1,\n",
              " 'please send': 18,\n",
              " 'send us': 29,\n",
              " 'us private': 39,\n",
              " 'private messageassistclick': 20,\n",
              " 'messageassistclick messagetopprofile': 11}"
            ]
          },
          "metadata": {},
          "execution_count": 68
        }
      ]
    },
    {
      "cell_type": "code",
      "source": [
        "# 14. TF IDF\n",
        "tfidf=TfidfVectorizer()\n",
        "tfidf.fit_transform(demo_df[\"text\"][0:4]).toarray()"
      ],
      "metadata": {
        "colab": {
          "base_uri": "https://localhost:8080/"
        },
        "id": "mQ1PTPvWBrpk",
        "outputId": "f04694f8-6388-4bdc-8b9c-06218af79777"
      },
      "execution_count": 71,
      "outputs": [
        {
          "output_type": "execute_result",
          "data": {
            "text/plain": [
              "array([[0.2623814 , 0.33279753, 0.33279753, 0.33279753, 0.33279753,\n",
              "        0.        , 0.        , 0.        , 0.33279753, 0.        ,\n",
              "        0.21242036, 0.        , 0.        , 0.33279753, 0.        ,\n",
              "        0.        , 0.        , 0.        , 0.33279753, 0.        ,\n",
              "        0.        , 0.33279753],\n",
              "       [0.        , 0.        , 0.        , 0.        , 0.        ,\n",
              "        0.        , 0.        , 0.        , 0.        , 0.        ,\n",
              "        0.        , 0.70710678, 0.        , 0.        , 0.        ,\n",
              "        0.        , 0.70710678, 0.        , 0.        , 0.        ,\n",
              "        0.        , 0.        ],\n",
              "       [0.        , 0.        , 0.        , 0.        , 0.        ,\n",
              "        0.        , 0.43003652, 0.        , 0.        , 0.        ,\n",
              "        0.27448674, 0.        , 0.43003652, 0.        , 0.        ,\n",
              "        0.43003652, 0.        , 0.43003652, 0.        , 0.        ,\n",
              "        0.43003652, 0.        ],\n",
              "       [0.32109252, 0.        , 0.        , 0.        , 0.        ,\n",
              "        0.40726515, 0.        , 0.40726515, 0.        , 0.40726515,\n",
              "        0.25995207, 0.        , 0.        , 0.        , 0.40726515,\n",
              "        0.        , 0.        , 0.        , 0.        , 0.40726515,\n",
              "        0.        , 0.        ]])"
            ]
          },
          "metadata": {},
          "execution_count": 71
        }
      ]
    },
    {
      "cell_type": "code",
      "source": [
        "tfidf.get_feature_names_out()"
      ],
      "metadata": {
        "colab": {
          "base_uri": "https://localhost:8080/"
        },
        "id": "pkEOg4CGCC9X",
        "outputId": "ddf692f6-16ff-407b-d1c1-43df953cc86d"
      },
      "execution_count": 72,
      "outputs": [
        {
          "output_type": "execute_result",
          "data": {
            "text/plain": [
              "array(['115712', 'assistwould', 'get', 'like', 'linkassist',\n",
              "       'messageassistclick', 'messagesone', 'messagetopprofile', 'need',\n",
              "       'please', 'private', 'propose', 'responding', 'secured', 'send',\n",
              "       'several', 'sprintcare', 'sprintcaresent', 'understand', 'us',\n",
              "       'usual', 'would'], dtype=object)"
            ]
          },
          "metadata": {},
          "execution_count": 72
        }
      ]
    },
    {
      "cell_type": "code",
      "source": [
        "tfidf.idf_"
      ],
      "metadata": {
        "colab": {
          "base_uri": "https://localhost:8080/"
        },
        "id": "RfpBj1txCMCW",
        "outputId": "7c777a36-89f3-4a30-d4cf-6d6bd5963257"
      },
      "execution_count": 73,
      "outputs": [
        {
          "output_type": "execute_result",
          "data": {
            "text/plain": [
              "array([1.51082562, 1.91629073, 1.91629073, 1.91629073, 1.91629073,\n",
              "       1.91629073, 1.91629073, 1.91629073, 1.91629073, 1.91629073,\n",
              "       1.22314355, 1.91629073, 1.91629073, 1.91629073, 1.91629073,\n",
              "       1.91629073, 1.91629073, 1.91629073, 1.91629073, 1.91629073,\n",
              "       1.91629073, 1.91629073])"
            ]
          },
          "metadata": {},
          "execution_count": 73
        }
      ]
    },
    {
      "cell_type": "code",
      "source": [
        "tfidf1=TfidfVectorizer()\n",
        "\n",
        "text1 = pd.DataFrame({\"First\" : [\"This is a test statement for TFIDF verification ASAP results\", \"streaming\"], \"Second\" : [\"Second sentence\", \"Stemming\"]})\n",
        "tfidf1.fit_transform(text1[\"First\"])\n",
        "\n",
        "tfidf1.vocabulary_"
      ],
      "metadata": {
        "colab": {
          "base_uri": "https://localhost:8080/"
        },
        "id": "xUBw0wGxC_yv",
        "outputId": "51ef5663-53fc-4674-dd05-f04a6302ff8a"
      },
      "execution_count": 101,
      "outputs": [
        {
          "output_type": "execute_result",
          "data": {
            "text/plain": [
              "{'this': 8,\n",
              " 'is': 2,\n",
              " 'test': 6,\n",
              " 'statement': 4,\n",
              " 'for': 1,\n",
              " 'tfidf': 7,\n",
              " 'verification': 9,\n",
              " 'asap': 0,\n",
              " 'results': 3,\n",
              " 'streaming': 5}"
            ]
          },
          "metadata": {},
          "execution_count": 101
        }
      ]
    },
    {
      "cell_type": "code",
      "source": [
        "tfidf1.fixed_vocabulary_"
      ],
      "metadata": {
        "colab": {
          "base_uri": "https://localhost:8080/"
        },
        "id": "7JDtN2xIFP8t",
        "outputId": "3054db38-ea99-4ef9-fa58-bbeff7f5a90a"
      },
      "execution_count": 102,
      "outputs": [
        {
          "output_type": "execute_result",
          "data": {
            "text/plain": [
              "False"
            ]
          },
          "metadata": {},
          "execution_count": 102
        }
      ]
    },
    {
      "cell_type": "code",
      "source": [
        "tfidf1.get_feature_names_out()"
      ],
      "metadata": {
        "colab": {
          "base_uri": "https://localhost:8080/"
        },
        "id": "GDbwYpnBFm6c",
        "outputId": "ef1ee72d-0803-41ef-866e-4a7839e2875e"
      },
      "execution_count": 103,
      "outputs": [
        {
          "output_type": "execute_result",
          "data": {
            "text/plain": [
              "array(['asap', 'for', 'is', 'results', 'statement', 'streaming', 'test',\n",
              "       'tfidf', 'this', 'verification'], dtype=object)"
            ]
          },
          "metadata": {},
          "execution_count": 103
        }
      ]
    },
    {
      "cell_type": "code",
      "source": [
        "tfidf1.get_stop_words()"
      ],
      "metadata": {
        "id": "zOP1Y8SqFo0M"
      },
      "execution_count": 104,
      "outputs": []
    },
    {
      "cell_type": "code",
      "source": [
        "tfidf1.idf_"
      ],
      "metadata": {
        "colab": {
          "base_uri": "https://localhost:8080/"
        },
        "id": "UQ7J-Gj-FxE0",
        "outputId": "050c7f1e-6e52-49b5-9408-4d9380d55dfb"
      },
      "execution_count": 106,
      "outputs": [
        {
          "output_type": "execute_result",
          "data": {
            "text/plain": [
              "array([1.40546511, 1.40546511, 1.40546511, 1.40546511, 1.40546511,\n",
              "       1.40546511, 1.40546511, 1.40546511, 1.40546511, 1.40546511])"
            ]
          },
          "metadata": {},
          "execution_count": 106
        }
      ]
    },
    {
      "cell_type": "code",
      "source": [
        "tfidf.stop_words_"
      ],
      "metadata": {
        "colab": {
          "base_uri": "https://localhost:8080/"
        },
        "id": "vNuvZVuQGLj8",
        "outputId": "d0d886e8-a6fe-4fe4-c68c-75bc80b70c45"
      },
      "execution_count": 108,
      "outputs": [
        {
          "output_type": "execute_result",
          "data": {
            "text/plain": [
              "set()"
            ]
          },
          "metadata": {},
          "execution_count": 108
        }
      ]
    }
  ]
}